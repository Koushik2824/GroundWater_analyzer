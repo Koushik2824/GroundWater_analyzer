{
 "cells": [
  {
   "cell_type": "markdown",
   "metadata": {},
   "source": [
    "### Loading and cleaning data"
   ]
  },
  {
   "cell_type": "code",
   "execution_count": 27,
   "metadata": {},
   "outputs": [],
   "source": [
    "# Required imports\n",
    "import pandas as pd\n",
    "import math\n",
    "\n",
    "pd.set_option('display.max_columns',30)\n",
    "\n",
    "# Load data\n",
    "dataset_df1 = pd.read_csv(r\"./premonsoon/ground_water_quality_2018_pre.csv\")\n",
    "dataset_df2 = pd.read_csv(r\"./premonsoon/ground_water_quality_2019_pre.csv\")\n",
    "dataset_df3 = pd.read_csv(r\"./premonsoon/ground_water_quality_2020_pre.csv\")\n",
    "dataset_df4 = pd.read_csv(r\"./premonsoon/ground_water_quality_2021_pre.csv\")\n",
    "dataset_df5 = pd.read_csv(r\"./premonsoon/ground_water_quality_2022_pre.csv\")\n",
    "dataset_df6 = pd.read_csv(r\"./postmonsoon/ground_water_quality_2018_post.csv\")\n",
    "dataset_df7 = pd.read_csv(r\"./postmonsoon/ground_water_quality_2019_post.csv\")\n",
    "dataset_df8 = pd.read_csv(r\"./postmonsoon/ground_water_quality_2020_post.csv\")\n",
    "dataset_df9 = pd.read_csv(r\"./postmonsoon/ground_water_quality_2021_post.csv\")\n",
    "dataset_df = pd.concat([dataset_df1,dataset_df2,dataset_df3,dataset_df4,dataset_df5,dataset_df6,dataset_df7,dataset_df8,dataset_df9],join='outer',ignore_index=True)\n",
    "dataset_df.drop(columns=['RL_GIS','sno','village','mandal','district','gwl'],inplace=True)\n",
    "dataset_df['season']=dataset_df['season'].astype(str).apply(lambda x: 0 if 'pre' in x.lower() else 1)\n",
    "# End load data\n",
    "\n",
    "# Changing fields to numeric equivalents.\n",
    "dataset_df['pH'] = pd.to_numeric(dataset_df['pH'], errors='coerce')\n",
    "# Now convert to float\n",
    "dataset_df['pH'] = dataset_df['pH'].astype(float)\n",
    "dataset_df['RSC  meq  / L'] = pd.to_numeric(dataset_df['RSC  meq  / L'], errors='coerce')\n",
    "# Now convert to float\n",
    "dataset_df['RSC  meq  / L'] = dataset_df['RSC  meq  / L'].astype(float)\n",
    "# End changing fields\n",
    "\n",
    "# Remove Null values\n",
    "for index, row in dataset_df.iterrows():\n",
    "    if 'NA' in row.values:\n",
    "        dataset_df.drop(index, inplace=True)\n",
    "    elif(row['Classification']=='OG')or(row['Classification']=='O.G')or(row['Classification']=='BELOW THE GRAPH')or(row['Classification']=='OUT OF SAR GRAPH')or(row['Classification']=='BG'):\n",
    "        dataset_df.drop(index, inplace=True)\n",
    "dataset_df.reset_index(drop=True, inplace=True)\n",
    "\n",
    "null_threshold = len(dataset_df) * 0.25\n",
    "for column in dataset_df.columns:\n",
    "    null_count = dataset_df[column].isnull().sum()\n",
    "    if null_count > null_threshold:\n",
    "        dataset_df.drop(column, axis=1, inplace=True)\n",
    "    elif null_count > 0:\n",
    "        dataset_df.dropna(subset=[column], inplace=True)\n",
    "dataset_df.reset_index(drop=True, inplace=True)\n",
    "\n",
    "data = dataset_df\n",
    "# End remove null"
   ]
  },
  {
   "cell_type": "markdown",
   "metadata": {},
   "source": [
    "### kNN (k Nearest Neighbours) Algorithm"
   ]
  },
  {
   "cell_type": "markdown",
   "metadata": {},
   "source": [
    "The k nearest neighbours algorithm is a non-parametric supervised learning algorithm.  \n",
    "Its **training** phase only consists of storing the data.  \n",
    "Its **classification** phase involves of calculating the k nearest neighbours (according to some \"distance\" metric) to the new data for which classification is sought and then finding representative label of those k neighbours and assigning the new data this label. The k mentioned here is given as a parameter and is not learnt, though there are thumb rules (such as sqrt(n), n = # datapoints) and some procedures which can make better choices for k.  \n",
    "\n",
    "<img src=\"images/kNN_Explanation.png\" width=\"800\" />\n",
    "\n",
    "#### Notes regarding implementation:  \n",
    "There are other kinds of representation of data which help in finding nearest neighbour more quickly than the naive method, which we do not consider here for implementation.  \n",
    "We implement the naive method, which implies that distance of new point from all points is first calculated,   \n",
    "and we then determine the k neighbours, closest to this point, and then simply find the label which occurs maximum number of times  \n",
    "(we have some other rules such as requiring a majority vote, which is defined to be a situation where the majority has to exceed  \n",
    " all others by the proportion of number of classes).   \n",
    "The k chosen in our implementation is sqrt(n), where n is the number of datapoints. Also the metric used is the usual Euclidean Norm/ L2 Norm.    \n",
    "Also, due to non-parallelized implementation, the function is extremely slow and might take around 5-15 minutes to give the results.  \n",
    "The accuracy obtained, however is similar/comparable with the standard library packages implementation. (See below)\n",
    "\n",
    "<img src=\"images/kNN_Algorithm_Pseudocode.png\" width=\"800\" />"
   ]
  },
  {
   "cell_type": "markdown",
   "metadata": {},
   "source": [
    "### kNN Implementation without `sklearn`"
   ]
  },
  {
   "cell_type": "code",
   "execution_count": 28,
   "metadata": {},
   "outputs": [],
   "source": [
    "# Euclidean metric/L2 norm metric\n",
    "def calculate_distance(row : pd.Series,trow : pd.Series) -> float:\n",
    "    dist = 0\n",
    "    for index,value in row.items():\n",
    "        if index != 'Classification' and index != 'Classification.1':\n",
    "            dist += (value-trow[index])**2\n",
    "    return math.sqrt(dist)\n",
    "\n",
    "# Return the label with maximum count only (No '> 1/unique_label_count' done).\n",
    "def getMajorityLabel(neighbourList: list) -> str:\n",
    "    freqList = []\n",
    "    for item in neighbourList:\n",
    "        for tup in freqList:\n",
    "            if tup[0] == item[1]:\n",
    "                tup[1] = tup[1] + 1\n",
    "                break\n",
    "        else:\n",
    "            freqList.append([item[1],1])\n",
    "    majority_label = ''\n",
    "    max_freq = 0\n",
    "    for item in freqList:\n",
    "        if max_freq < item[1]:\n",
    "            majority_label = item[0]\n",
    "            max_freq = item[1]\n",
    "    return majority_label\n",
    "\n",
    "# Naive kNN\n",
    "# For classification, measure distance of given (new) data to all other test data \n",
    "# and sort the distances and take the least k from these with their labels and\n",
    "# find the majority label among these and assign that label to the given data.\n",
    "def KNN_classifier(dataframe:pd.DataFrame,test_data:pd.DataFrame,K:int) -> None:\n",
    "    req_data = dataframe \n",
    "    req_test_data = test_data\n",
    "    totalTests = req_test_data.shape[0]\n",
    "    totalCorrectClassifications = 0\n",
    "    for tindex,trow in req_test_data.iterrows():\n",
    "        nearest_neighbours = []\n",
    "        for index,row in req_data.iterrows():\n",
    "            nearest_neighbours.append((calculate_distance(row,trow),row['Classification']))\n",
    "        nearest_neighbours.sort()\n",
    "        nearest_neighbours = nearest_neighbours[0:K-1]\n",
    "        if trow['Classification'] == getMajorityLabel(nearest_neighbours):\n",
    "            totalCorrectClassifications = totalCorrectClassifications+1\n",
    "    print(totalCorrectClassifications/totalTests *100)\n",
    "\n",
    "# Split data into 80-20 as train and test data sets\n",
    "train = data.sample(frac=0.8,random_state=8)\n",
    "test = data.drop(train.index)\n",
    "\n",
    "# Parameter k : first choice\n",
    "K =  math.ceil(math.sqrt(train.shape[0]))\n",
    "\n",
    "train = train.reset_index(drop=True)\n",
    "test = test.reset_index(drop=True)"
   ]
  },
  {
   "cell_type": "markdown",
   "metadata": {},
   "source": [
    "### Running the kNN on test data"
   ]
  },
  {
   "cell_type": "code",
   "execution_count": 29,
   "metadata": {},
   "outputs": [
    {
     "name": "stdout",
     "output_type": "stream",
     "text": [
      "91.39213602550478\n"
     ]
    }
   ],
   "source": [
    "# Actual Classification phase.\n",
    "KNN_classifier(train,test,K=K)"
   ]
  },
  {
   "cell_type": "markdown",
   "metadata": {},
   "source": [
    "### Using `sklearn` kNN to compare performance with above implementation."
   ]
  },
  {
   "cell_type": "code",
   "execution_count": 30,
   "metadata": {},
   "outputs": [
    {
     "name": "stdout",
     "output_type": "stream",
     "text": [
      "91.49840595111584\n"
     ]
    },
    {
     "name": "stderr",
     "output_type": "stream",
     "text": [
      "c:\\Users\\p0803\\anaconda3\\lib\\site-packages\\sklearn\\neighbors\\_classification.py:228: FutureWarning: Unlike other reduction functions (e.g. `skew`, `kurtosis`), the default behavior of `mode` typically preserves the axis it acts along. In SciPy 1.11.0, this behavior will change: the default value of `keepdims` will become False, the `axis` over which the statistic is taken will be eliminated, and the value None will no longer be accepted. Set `keepdims` to True or False to avoid this warning.\n",
      "  mode, _ = stats.mode(_y[neigh_ind, k], axis=1)\n"
     ]
    }
   ],
   "source": [
    "# Required imports\n",
    "from sklearn.neighbors import KNeighborsClassifier\n",
    "from sklearn.preprocessing import LabelEncoder\n",
    "\n",
    "# sklearn requires numerical labels for output also, so use label encoding for categories\n",
    "label_encoder = LabelEncoder()\n",
    "data['encoded_Classification'] = label_encoder.fit_transform(data['Classification'])\n",
    "\n",
    "# Same split\n",
    "train = data.sample(frac=0.8,random_state=8)\n",
    "test = data.drop(train.index)\n",
    "\n",
    "# sklearn requires separate input data and output labels (encoded)\n",
    "trainX = train.drop(['Classification','encoded_Classification','Classification.1'],axis=1)\n",
    "trainY = train['encoded_Classification']\n",
    "\n",
    "testX = test.drop(['Classification','encoded_Classification','Classification.1'],axis=1)\n",
    "testY = test['encoded_Classification']\n",
    "\n",
    "# Parameter k : first choice\n",
    "K =  math.ceil(math.sqrt(train.shape[0]))\n",
    "knn_classifier = KNeighborsClassifier(n_neighbors=K)\n",
    "knn_classifier.fit(trainX,trainY)\n",
    "\n",
    "# Inbuilt function to calculate accuracy on test data set\n",
    "accuracy = knn_classifier.score(testX, testY)\n",
    "print(100*accuracy)"
   ]
  },
  {
   "cell_type": "markdown",
   "metadata": {},
   "source": [
    "### Using reduced dataset obtained from PCA"
   ]
  },
  {
   "cell_type": "code",
   "execution_count": 31,
   "metadata": {},
   "outputs": [],
   "source": [
    "reduced_dataset_df = pd.read_csv(r\"Reduced_features_dataset.csv\")\n",
    "\n",
    "# Remove Null values\n",
    "for index, row in reduced_dataset_df.iterrows():\n",
    "    if 'NA' in row.values:\n",
    "        reduced_dataset_df.drop(index, inplace=True)\n",
    "    elif(row['Classification']=='OG')or(row['Classification']=='O.G')or(row['Classification']=='BELOW THE GRAPH')or(row['Classification']=='OUT OF SAR GRAPH')or(row['Classification']=='BG'):\n",
    "        reduced_dataset_df.drop(index, inplace=True)\n",
    "reduced_dataset_df.reset_index(drop=True, inplace=True)\n",
    "\n",
    "\n",
    "null_threshold = len(reduced_dataset_df) * 0.25\n",
    "for column in reduced_dataset_df.columns:\n",
    "    null_count = reduced_dataset_df[column].isnull().sum()\n",
    "    if null_count > null_threshold:\n",
    "        reduced_dataset_df.drop(column, axis=1, inplace=True)\n",
    "    elif null_count > 0:\n",
    "        reduced_dataset_df.dropna(subset=[column], inplace=True)\n",
    "reduced_dataset_df.reset_index(drop=True, inplace=True)\n",
    "\n",
    "data = reduced_dataset_df\n",
    "\n",
    "reduced_train = data.sample(frac=0.8,random_state=8)\n",
    "reduced_test = data.drop(reduced_train.index)\n",
    "\n",
    "new_K = math.ceil(math.sqrt(reduced_train.shape[0]))\n",
    "\n",
    "reduced_train = reduced_train.reset_index(drop=True)\n",
    "reduced_test = reduced_test.reset_index(drop=True)"
   ]
  },
  {
   "cell_type": "markdown",
   "metadata": {},
   "source": [
    "#### Running the implemented kNN algorithm on the reduced dataset"
   ]
  },
  {
   "cell_type": "code",
   "execution_count": 32,
   "metadata": {},
   "outputs": [
    {
     "name": "stdout",
     "output_type": "stream",
     "text": [
      "85.01529051987767\n"
     ]
    }
   ],
   "source": [
    "KNN_classifier(reduced_train,reduced_test,new_K)"
   ]
  },
  {
   "cell_type": "markdown",
   "metadata": {},
   "source": [
    "#### Running the `sklearn` library on reduced dataset"
   ]
  },
  {
   "cell_type": "code",
   "execution_count": 33,
   "metadata": {},
   "outputs": [
    {
     "name": "stdout",
     "output_type": "stream",
     "text": [
      "84.91335372069318\n"
     ]
    },
    {
     "name": "stderr",
     "output_type": "stream",
     "text": [
      "c:\\Users\\p0803\\anaconda3\\lib\\site-packages\\sklearn\\neighbors\\_classification.py:228: FutureWarning: Unlike other reduction functions (e.g. `skew`, `kurtosis`), the default behavior of `mode` typically preserves the axis it acts along. In SciPy 1.11.0, this behavior will change: the default value of `keepdims` will become False, the `axis` over which the statistic is taken will be eliminated, and the value None will no longer be accepted. Set `keepdims` to True or False to avoid this warning.\n",
      "  mode, _ = stats.mode(_y[neigh_ind, k], axis=1)\n"
     ]
    }
   ],
   "source": [
    "# sklearn requires numerical labels for output also, so use label encoding for categories\n",
    "new_label_encoder = LabelEncoder()\n",
    "data['encoded_Classification'] = new_label_encoder.fit_transform(data['Classification'])\n",
    "\n",
    "# Same split\n",
    "reduced_train = data.sample(frac=0.8,random_state=8)\n",
    "reduced_test = data.drop(reduced_train.index)\n",
    "\n",
    "# sklearn requires separate input data and output labels (encoded)\n",
    "reduced_trainX = reduced_train.drop(['Classification','encoded_Classification'],axis=1)\n",
    "reduced_trainY = reduced_train['encoded_Classification']\n",
    "\n",
    "reduced_testX = reduced_test.drop(['Classification','encoded_Classification'],axis=1)\n",
    "reduced_testY = reduced_test['encoded_Classification']\n",
    "\n",
    "# Parameter k : first choice\n",
    "new_K =  math.ceil(math.sqrt(reduced_train.shape[0]))\n",
    "knn_classifier = KNeighborsClassifier(n_neighbors=new_K)\n",
    "knn_classifier.fit(reduced_trainX,reduced_trainY)\n",
    "\n",
    "# Inbuilt function to calculate accuracy on test data set\n",
    "new_accuracy = knn_classifier.score(reduced_testX, reduced_testY)\n",
    "print(100*new_accuracy)"
   ]
  },
  {
   "cell_type": "markdown",
   "metadata": {},
   "source": [
    "### Running for different k Values and plotting the result for both the Original dataset and Reduced dataset."
   ]
  },
  {
   "cell_type": "code",
   "execution_count": 34,
   "metadata": {},
   "outputs": [],
   "source": [
    "K = [3,5,math.ceil(math.log(train.shape[0])),math.ceil((train.shape[0])**(1/3)),math.ceil(math.sqrt(train.shape[0])),math.ceil((train.shape[0])/math.log(train.shape[0])),train.shape[0]]\n",
    "accuracy_impl_on_original_dataset = []\n",
    "\n",
    "def modified_KNN_classifier(dataframe:pd.DataFrame,test_data:pd.DataFrame,K:int) -> None:\n",
    "    req_data = dataframe \n",
    "    req_test_data = test_data\n",
    "    totalTests = req_test_data.shape[0]\n",
    "    totalCorrectClassifications = 0\n",
    "    for tindex,trow in req_test_data.iterrows():\n",
    "        nearest_neighbours = []\n",
    "        for index,row in req_data.iterrows():\n",
    "            nearest_neighbours.append((calculate_distance(row,trow),row['Classification']))\n",
    "        nearest_neighbours.sort()\n",
    "        nearest_neighbours = nearest_neighbours[0:K-1]\n",
    "        if trow['Classification'] == getMajorityLabel(nearest_neighbours):\n",
    "            totalCorrectClassifications = totalCorrectClassifications+1\n",
    "    accuracy_impl_on_original_dataset.append(totalCorrectClassifications/totalTests *100)\n",
    "    print('K = ',K,', accuracy = ',totalCorrectClassifications/totalTests *100)"
   ]
  },
  {
   "cell_type": "markdown",
   "metadata": {},
   "source": [
    "### Running the (modified) implementation on original dataset with different k"
   ]
  },
  {
   "cell_type": "code",
   "execution_count": 35,
   "metadata": {},
   "outputs": [
    {
     "name": "stdout",
     "output_type": "stream",
     "text": [
      "K =  3 , accuracy =  92.0297555791711\n",
      "K =  5 , accuracy =  92.13602550478215\n",
      "K =  9 , accuracy =  92.0297555791711\n",
      "K =  16 , accuracy =  92.0297555791711\n",
      "K =  62 , accuracy =  91.39213602550478\n",
      "K =  458 , accuracy =  87.77895855472902\n",
      "K =  3764 , accuracy =  62.911795961742826\n"
     ]
    }
   ],
   "source": [
    "for k in K:\n",
    "    modified_KNN_classifier(train,test,k)"
   ]
  },
  {
   "cell_type": "markdown",
   "metadata": {},
   "source": [
    "### Running `sklearn` on original dataset with different k"
   ]
  },
  {
   "cell_type": "code",
   "execution_count": 36,
   "metadata": {},
   "outputs": [
    {
     "name": "stderr",
     "output_type": "stream",
     "text": [
      "c:\\Users\\p0803\\anaconda3\\lib\\site-packages\\sklearn\\neighbors\\_classification.py:228: FutureWarning: Unlike other reduction functions (e.g. `skew`, `kurtosis`), the default behavior of `mode` typically preserves the axis it acts along. In SciPy 1.11.0, this behavior will change: the default value of `keepdims` will become False, the `axis` over which the statistic is taken will be eliminated, and the value None will no longer be accepted. Set `keepdims` to True or False to avoid this warning.\n",
      "  mode, _ = stats.mode(_y[neigh_ind, k], axis=1)\n",
      "c:\\Users\\p0803\\anaconda3\\lib\\site-packages\\sklearn\\neighbors\\_classification.py:228: FutureWarning: Unlike other reduction functions (e.g. `skew`, `kurtosis`), the default behavior of `mode` typically preserves the axis it acts along. In SciPy 1.11.0, this behavior will change: the default value of `keepdims` will become False, the `axis` over which the statistic is taken will be eliminated, and the value None will no longer be accepted. Set `keepdims` to True or False to avoid this warning.\n",
      "  mode, _ = stats.mode(_y[neigh_ind, k], axis=1)\n",
      "c:\\Users\\p0803\\anaconda3\\lib\\site-packages\\sklearn\\neighbors\\_classification.py:228: FutureWarning: Unlike other reduction functions (e.g. `skew`, `kurtosis`), the default behavior of `mode` typically preserves the axis it acts along. In SciPy 1.11.0, this behavior will change: the default value of `keepdims` will become False, the `axis` over which the statistic is taken will be eliminated, and the value None will no longer be accepted. Set `keepdims` to True or False to avoid this warning.\n",
      "  mode, _ = stats.mode(_y[neigh_ind, k], axis=1)\n",
      "c:\\Users\\p0803\\anaconda3\\lib\\site-packages\\sklearn\\neighbors\\_classification.py:228: FutureWarning: Unlike other reduction functions (e.g. `skew`, `kurtosis`), the default behavior of `mode` typically preserves the axis it acts along. In SciPy 1.11.0, this behavior will change: the default value of `keepdims` will become False, the `axis` over which the statistic is taken will be eliminated, and the value None will no longer be accepted. Set `keepdims` to True or False to avoid this warning.\n",
      "  mode, _ = stats.mode(_y[neigh_ind, k], axis=1)\n"
     ]
    },
    {
     "name": "stdout",
     "output_type": "stream",
     "text": [
      "k =  3 , accuracy =  86.74821610601427\n",
      "k =  5 , accuracy =  86.95208970438328\n",
      "k =  9 , accuracy =  87.05402650356778\n",
      "k =  16 , accuracy =  86.64627930682977\n"
     ]
    },
    {
     "name": "stderr",
     "output_type": "stream",
     "text": [
      "c:\\Users\\p0803\\anaconda3\\lib\\site-packages\\sklearn\\neighbors\\_classification.py:228: FutureWarning: Unlike other reduction functions (e.g. `skew`, `kurtosis`), the default behavior of `mode` typically preserves the axis it acts along. In SciPy 1.11.0, this behavior will change: the default value of `keepdims` will become False, the `axis` over which the statistic is taken will be eliminated, and the value None will no longer be accepted. Set `keepdims` to True or False to avoid this warning.\n",
      "  mode, _ = stats.mode(_y[neigh_ind, k], axis=1)\n"
     ]
    },
    {
     "name": "stdout",
     "output_type": "stream",
     "text": [
      "k =  62 , accuracy =  85.01529051987767\n",
      "k =  458 , accuracy =  75.53516819571865\n"
     ]
    },
    {
     "name": "stderr",
     "output_type": "stream",
     "text": [
      "c:\\Users\\p0803\\anaconda3\\lib\\site-packages\\sklearn\\neighbors\\_classification.py:228: FutureWarning: Unlike other reduction functions (e.g. `skew`, `kurtosis`), the default behavior of `mode` typically preserves the axis it acts along. In SciPy 1.11.0, this behavior will change: the default value of `keepdims` will become False, the `axis` over which the statistic is taken will be eliminated, and the value None will no longer be accepted. Set `keepdims` to True or False to avoid this warning.\n",
      "  mode, _ = stats.mode(_y[neigh_ind, k], axis=1)\n"
     ]
    },
    {
     "name": "stdout",
     "output_type": "stream",
     "text": [
      "k =  3764 , accuracy =  61.87563710499491\n"
     ]
    },
    {
     "name": "stderr",
     "output_type": "stream",
     "text": [
      "c:\\Users\\p0803\\anaconda3\\lib\\site-packages\\sklearn\\neighbors\\_classification.py:228: FutureWarning: Unlike other reduction functions (e.g. `skew`, `kurtosis`), the default behavior of `mode` typically preserves the axis it acts along. In SciPy 1.11.0, this behavior will change: the default value of `keepdims` will become False, the `axis` over which the statistic is taken will be eliminated, and the value None will no longer be accepted. Set `keepdims` to True or False to avoid this warning.\n",
      "  mode, _ = stats.mode(_y[neigh_ind, k], axis=1)\n"
     ]
    }
   ],
   "source": [
    "accuracy_sklearn_on_original_dataset = []\n",
    "for k in K:\n",
    "    knn_classifier = KNeighborsClassifier(n_neighbors=k)\n",
    "    knn_classifier.fit(reduced_trainX,reduced_trainY)\n",
    "    # Inbuilt function to calculate accuracy on test data set\n",
    "    new_accuracy = knn_classifier.score(reduced_testX, reduced_testY)\n",
    "    print('k = ',k,', accuracy = ',new_accuracy*100)\n",
    "    accuracy_sklearn_on_original_dataset.append(new_accuracy*100)"
   ]
  },
  {
   "cell_type": "markdown",
   "metadata": {},
   "source": [
    "### Running the (modified) implementation on reduced dataset with different k"
   ]
  },
  {
   "cell_type": "code",
   "execution_count": 37,
   "metadata": {},
   "outputs": [
    {
     "name": "stdout",
     "output_type": "stream",
     "text": [
      "K =  3 , accuracy =  96.02446483180428\n",
      "K =  5 , accuracy =  95.41284403669725\n",
      "K =  9 , accuracy =  95.20897043832824\n",
      "K =  16 , accuracy =  93.88379204892966\n",
      "K =  62 , accuracy =  91.23343527013252\n",
      "K =  458 , accuracy =  82.36493374108052\n",
      "K =  3764 , accuracy =  61.87563710499491\n"
     ]
    }
   ],
   "source": [
    "accuracy_impl_on_reduced_dataset = []\n",
    "\n",
    "def modified_reduced_KNN_classifier(dataframe:pd.DataFrame,test_data:pd.DataFrame,K:int) -> None:\n",
    "    req_data = dataframe \n",
    "    req_test_data = test_data\n",
    "    totalTests = req_test_data.shape[0]\n",
    "    totalCorrectClassifications = 0\n",
    "    for tindex,trow in req_test_data.iterrows():\n",
    "        nearest_neighbours = []\n",
    "        for index,row in req_data.iterrows():\n",
    "            nearest_neighbours.append((calculate_distance(row,trow),row['Classification']))\n",
    "        nearest_neighbours.sort()\n",
    "        nearest_neighbours = nearest_neighbours[0:K-1]\n",
    "        if trow['Classification'] == getMajorityLabel(nearest_neighbours):\n",
    "            totalCorrectClassifications = totalCorrectClassifications+1\n",
    "    accuracy_impl_on_reduced_dataset.append(totalCorrectClassifications/totalTests *100)\n",
    "    print('K = ',K,', accuracy = ',totalCorrectClassifications/totalTests *100)\n",
    "\n",
    "for k in K:\n",
    "    modified_reduced_KNN_classifier(reduced_train,reduced_test,k)"
   ]
  },
  {
   "cell_type": "markdown",
   "metadata": {},
   "source": [
    "### Running `sklearn` on reduced dataset with different k"
   ]
  },
  {
   "cell_type": "code",
   "execution_count": 38,
   "metadata": {},
   "outputs": [
    {
     "name": "stderr",
     "output_type": "stream",
     "text": [
      "c:\\Users\\p0803\\anaconda3\\lib\\site-packages\\sklearn\\neighbors\\_classification.py:228: FutureWarning: Unlike other reduction functions (e.g. `skew`, `kurtosis`), the default behavior of `mode` typically preserves the axis it acts along. In SciPy 1.11.0, this behavior will change: the default value of `keepdims` will become False, the `axis` over which the statistic is taken will be eliminated, and the value None will no longer be accepted. Set `keepdims` to True or False to avoid this warning.\n",
      "  mode, _ = stats.mode(_y[neigh_ind, k], axis=1)\n",
      "c:\\Users\\p0803\\anaconda3\\lib\\site-packages\\sklearn\\neighbors\\_classification.py:228: FutureWarning: Unlike other reduction functions (e.g. `skew`, `kurtosis`), the default behavior of `mode` typically preserves the axis it acts along. In SciPy 1.11.0, this behavior will change: the default value of `keepdims` will become False, the `axis` over which the statistic is taken will be eliminated, and the value None will no longer be accepted. Set `keepdims` to True or False to avoid this warning.\n",
      "  mode, _ = stats.mode(_y[neigh_ind, k], axis=1)\n",
      "c:\\Users\\p0803\\anaconda3\\lib\\site-packages\\sklearn\\neighbors\\_classification.py:228: FutureWarning: Unlike other reduction functions (e.g. `skew`, `kurtosis`), the default behavior of `mode` typically preserves the axis it acts along. In SciPy 1.11.0, this behavior will change: the default value of `keepdims` will become False, the `axis` over which the statistic is taken will be eliminated, and the value None will no longer be accepted. Set `keepdims` to True or False to avoid this warning.\n",
      "  mode, _ = stats.mode(_y[neigh_ind, k], axis=1)\n",
      "c:\\Users\\p0803\\anaconda3\\lib\\site-packages\\sklearn\\neighbors\\_classification.py:228: FutureWarning: Unlike other reduction functions (e.g. `skew`, `kurtosis`), the default behavior of `mode` typically preserves the axis it acts along. In SciPy 1.11.0, this behavior will change: the default value of `keepdims` will become False, the `axis` over which the statistic is taken will be eliminated, and the value None will no longer be accepted. Set `keepdims` to True or False to avoid this warning.\n",
      "  mode, _ = stats.mode(_y[neigh_ind, k], axis=1)\n"
     ]
    },
    {
     "name": "stdout",
     "output_type": "stream",
     "text": [
      "k =  3 , accuracy =  86.74821610601427\n",
      "k =  5 , accuracy =  86.95208970438328\n",
      "k =  9 , accuracy =  87.05402650356778\n",
      "k =  16 , accuracy =  86.64627930682977\n"
     ]
    },
    {
     "name": "stderr",
     "output_type": "stream",
     "text": [
      "c:\\Users\\p0803\\anaconda3\\lib\\site-packages\\sklearn\\neighbors\\_classification.py:228: FutureWarning: Unlike other reduction functions (e.g. `skew`, `kurtosis`), the default behavior of `mode` typically preserves the axis it acts along. In SciPy 1.11.0, this behavior will change: the default value of `keepdims` will become False, the `axis` over which the statistic is taken will be eliminated, and the value None will no longer be accepted. Set `keepdims` to True or False to avoid this warning.\n",
      "  mode, _ = stats.mode(_y[neigh_ind, k], axis=1)\n",
      "c:\\Users\\p0803\\anaconda3\\lib\\site-packages\\sklearn\\neighbors\\_classification.py:228: FutureWarning: Unlike other reduction functions (e.g. `skew`, `kurtosis`), the default behavior of `mode` typically preserves the axis it acts along. In SciPy 1.11.0, this behavior will change: the default value of `keepdims` will become False, the `axis` over which the statistic is taken will be eliminated, and the value None will no longer be accepted. Set `keepdims` to True or False to avoid this warning.\n",
      "  mode, _ = stats.mode(_y[neigh_ind, k], axis=1)\n"
     ]
    },
    {
     "name": "stdout",
     "output_type": "stream",
     "text": [
      "k =  62 , accuracy =  85.01529051987767\n",
      "k =  458 , accuracy =  75.53516819571865\n",
      "k =  3764 , accuracy =  61.87563710499491\n"
     ]
    },
    {
     "name": "stderr",
     "output_type": "stream",
     "text": [
      "c:\\Users\\p0803\\anaconda3\\lib\\site-packages\\sklearn\\neighbors\\_classification.py:228: FutureWarning: Unlike other reduction functions (e.g. `skew`, `kurtosis`), the default behavior of `mode` typically preserves the axis it acts along. In SciPy 1.11.0, this behavior will change: the default value of `keepdims` will become False, the `axis` over which the statistic is taken will be eliminated, and the value None will no longer be accepted. Set `keepdims` to True or False to avoid this warning.\n",
      "  mode, _ = stats.mode(_y[neigh_ind, k], axis=1)\n"
     ]
    }
   ],
   "source": [
    "accuracy_sklearn_on_reduced_dataset = []\n",
    "\n",
    "for k in K:\n",
    "    knn_classifier = KNeighborsClassifier(n_neighbors=k)\n",
    "    knn_classifier.fit(reduced_trainX,reduced_trainY)\n",
    "    # Inbuilt function to calculate accuracy on test data set\n",
    "    new_accuracy = knn_classifier.score(reduced_testX, reduced_testY)\n",
    "    print('k = ',k,', accuracy = ',new_accuracy*100)\n",
    "    accuracy_sklearn_on_reduced_dataset.append(new_accuracy*100)"
   ]
  },
  {
   "cell_type": "markdown",
   "metadata": {},
   "source": [
    "### Plotting the accuracies obtained."
   ]
  },
  {
   "cell_type": "code",
   "execution_count": 44,
   "metadata": {},
   "outputs": [
    {
     "data": {
      "image/png": "[encoded data removed]",
      "text/plain": [
       "<Figure size 640x480 with 1 Axes>"
      ]
     },
     "metadata": {},
     "output_type": "display_data"
    }
   ],
   "source": [
    "import matplotlib.pyplot as plt\n",
    "\n",
    "# Plotting the accuracies for both models\n",
    "plt.plot(K, accuracy_impl_on_original_dataset, marker='o', color='blue', label='Implemented, Original')\n",
    "plt.plot(K, accuracy_sklearn_on_original_dataset, marker='x', color='red', label='Sklearn, Original')\n",
    "plt.plot(K, accuracy_impl_on_reduced_dataset, marker='o', color='green', label='Implemented, Reduced')\n",
    "plt.plot(K, accuracy_sklearn_on_reduced_dataset, marker='+', color='yellow', label='Sklearn, Reduced')\n",
    "\n",
    "# Customizing the x-axis labels\n",
    "x_labels = ['3', '5', 'log n', 'cube root n', 'sqrt n', 'n / log n', 'n']\n",
    "plt.xticks(K, x_labels)\n",
    "\n",
    "plt.xscale('log')\n",
    "\n",
    "# Adding labels and title\n",
    "plt.xlabel('k Values')\n",
    "plt.ylabel('Accuracy (%)')\n",
    "plt.title('Accuracy of Models over Different k Values')\n",
    "\n",
    "# Adding legend\n",
    "plt.legend()\n",
    "\n",
    "# Displaying the plot\n",
    "plt.grid(True)\n",
    "plt.show()"
   ]
  }
 ],
 "metadata": {
  "kernelspec": {
   "display_name": "base",
   "language": "python",
   "name": "python3"
  },
  "language_info": {
   "codemirror_mode": {
    "name": "ipython",
    "version": 3
   },
   "file_extension": ".py",
   "mimetype": "text/x-python",
   "name": "python",
   "nbconvert_exporter": "python",
   "pygments_lexer": "ipython3",
   "version": "3.9.13"
  }
 },
 "nbformat": 4,
 "nbformat_minor": 2
}
