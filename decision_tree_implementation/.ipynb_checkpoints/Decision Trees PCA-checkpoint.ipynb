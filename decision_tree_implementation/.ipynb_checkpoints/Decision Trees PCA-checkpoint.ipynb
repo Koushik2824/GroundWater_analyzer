{
 "cells": [
  {
   "cell_type": "markdown",
   "id": "f467356e-d265-47b7-9ea3-d6c3e4d0844e",
   "metadata": {},
   "source": [
    "# DECISION TREE IMPLEMENTATION FROM SCRATCH ON PCA DATASET"
   ]
  },
  {
   "cell_type": "code",
   "execution_count": 1,
   "id": "65db7ec8-3131-4d05-bc09-689b555fcb10",
   "metadata": {},
   "outputs": [],
   "source": [
    "import numpy as np\n",
    "import pandas as pd \n",
    "import random\n",
    "from sklearn.model_selection import train_test_split\n",
    "from collections import Counter\n",
    "\n",
    "class Node:\n",
    "    def __init__(self, feature=None, threshold=None, left=None, right=None, value=None):\n",
    "        self.feature = feature\n",
    "        self.threshold = threshold\n",
    "        self.left = left\n",
    "        self.right = right\n",
    "        self.value = value\n",
    "        \n",
    "    def is_leaf_node(self):\n",
    "        return self.value is not None\n",
    "\n",
    "\n",
    "class DecisionTree:\n",
    "    def __init__(self, min_samples_split=3, max_depth=5, n_features=None):\n",
    "        self.min_samples_split=min_samples_split\n",
    "        self.max_depth=max_depth\n",
    "        self.n_features=n_features\n",
    "        self.root=None\n",
    "\n",
    "    def fit(self, X, y):\n",
    "        self.n_features = X.shape[1] if not self.n_features else min(X.shape[1],self.n_features)\n",
    "        self.root = self._grow_tree(X, y)\n",
    "\n",
    "    def _grow_tree(self, X, y, depth=0):\n",
    "        n_samples, n_feats = X.shape\n",
    "        n_labels = len(np.unique(y))\n",
    "\n",
    "        if (depth>=self.max_depth or n_labels==1 or n_samples<self.min_samples_split):\n",
    "            leaf_value = self._most_common_label(y)\n",
    "            return Node(value=leaf_value)\n",
    "\n",
    "        feat_idxs = np.random.choice(n_feats, self.n_features, replace=False)\n",
    "\n",
    "        best_feature, best_thresh = self._best_split(X, y, feat_idxs)\n",
    "\n",
    "        left_idxs, right_idxs = self._split(X[:, best_feature], best_thresh)\n",
    "        left = self._grow_tree(X[left_idxs, :], y[left_idxs], depth+1)\n",
    "        right = self._grow_tree(X[right_idxs, :], y[right_idxs], depth+1)\n",
    "        return Node(best_feature, best_thresh, left, right)\n",
    "\n",
    "    def _best_split(self, X, y, feat_idxs):\n",
    "        best_gain = -1\n",
    "        split_idx, split_threshold = None, None\n",
    "\n",
    "        for feat_idx in feat_idxs:\n",
    "            X_column = X[:, feat_idx]\n",
    "            thresholds = np.unique(X_column)\n",
    "\n",
    "            for thr in thresholds:\n",
    "                gain = self._information_gain(y, X_column, thr)\n",
    "\n",
    "                if gain > best_gain:\n",
    "                    best_gain = gain\n",
    "                    split_idx = feat_idx\n",
    "                    split_threshold = thr\n",
    "\n",
    "        return split_idx, split_threshold\n",
    "\n",
    "    def _information_gain(self, y, X_column, threshold):\n",
    "        parent_entropy = self._entropy(y)\n",
    "\n",
    "        left_idxs, right_idxs = self._split(X_column, threshold)\n",
    "\n",
    "        if len(left_idxs) == 0 or len(right_idxs) == 0:\n",
    "            return 0\n",
    "        \n",
    "        n = len(y)\n",
    "        n_l, n_r = len(left_idxs), len(right_idxs)\n",
    "        e_l, e_r = self._entropy(y[left_idxs]), self._entropy(y[right_idxs])\n",
    "        child_entropy = (n_l/n) * e_l + (n_r/n) * e_r\n",
    "\n",
    "        information_gain = parent_entropy - child_entropy\n",
    "        return information_gain\n",
    "\n",
    "    def _split(self, X_column, split_thresh):\n",
    "        left_idxs = np.where(X_column <= split_thresh)[0]\n",
    "        right_idxs = np.where(X_column > split_thresh)[0]\n",
    "        return left_idxs, right_idxs\n",
    "\n",
    "    def _entropy(self, y):\n",
    "        hist = np.bincount(y)\n",
    "        ps = hist / len(y)\n",
    "        return -np.sum([p * np.log(p) for p in ps if p>0])\n",
    "\n",
    "    def _most_common_label(self, y):\n",
    "        counter = Counter(y)\n",
    "        value = counter.most_common(1)[0][0]\n",
    "        return value\n",
    "\n",
    "    def predict(self, X):\n",
    "        return np.array([self._traverse_tree(x, self.root) for x in X])\n",
    "\n",
    "    def _traverse_tree(self, x, node):\n",
    "        if node.is_leaf_node():\n",
    "            return node.value\n",
    "\n",
    "        if x[node.feature] <= node.threshold:\n",
    "            return self._traverse_tree(x, node.left)\n",
    "        return self._traverse_tree(x, node.right)\n",
    "      \n",
    "\n"
   ]
  },
  {
   "cell_type": "code",
   "execution_count": 2,
   "id": "ba39261e-b560-4240-b4a0-5efedc5b497a",
   "metadata": {},
   "outputs": [],
   "source": [
    "dataset_df = pd.read_csv(r\"../Reduced_features_dataset.csv\")"
   ]
  },
  {
   "cell_type": "code",
   "execution_count": 3,
   "id": "61a8ce4a-3ebe-4e0c-8418-436df1e77ac7",
   "metadata": {},
   "outputs": [],
   "source": [
    "#To remove rows containing null values\n",
    "for index, row in dataset_df.iterrows():\n",
    "    if 'NA' in row.values:\n",
    "        dataset_df.drop(index, inplace=True)\n",
    "    elif(row['Classification']=='OG')or(row['Classification']=='O.G')or(row['Classification']=='BELOW THE GRAPH')or(row['Classification']=='OUT OF SAR GRAPH')or(row['Classification']=='BG'):\n",
    "        dataset_df.drop(index, inplace=True)\n",
    "dataset_df.reset_index(drop=True, inplace=True)"
   ]
  },
  {
   "cell_type": "code",
   "execution_count": 4,
   "id": "059af0f1-f2b9-4e89-91f7-925e5a0cadc3",
   "metadata": {},
   "outputs": [],
   "source": [
    "null_threshold = len(dataset_df) * 0.25\n",
    "for column in dataset_df.columns:\n",
    "    null_count = dataset_df[column].isnull().sum()\n",
    "    if null_count > null_threshold:\n",
    "        dataset_df.drop(column, axis=1, inplace=True)\n",
    "    elif null_count > 0:\n",
    "        dataset_df.dropna(subset=[column], inplace=True)\n",
    "dataset_df.reset_index(drop=True, inplace=True)"
   ]
  },
  {
   "cell_type": "code",
   "execution_count": 5,
   "id": "58e216d3-4487-44f7-ae55-3a0f7d0a170c",
   "metadata": {},
   "outputs": [
    {
     "data": {
      "text/plain": [
       "array([ 0,  1,  2,  3,  4,  5,  6,  7,  8,  9, 10])"
      ]
     },
     "execution_count": 5,
     "metadata": {},
     "output_type": "execute_result"
    }
   ],
   "source": [
    "#encoding/labelling the target column\n",
    "label_mapping = {\n",
    "    label: index for index, label in enumerate(dataset_df['Classification'].unique())\n",
    "}\n",
    "# Map labels to numerical values\n",
    "dataset_df['Classification'] = dataset_df['Classification'].map(label_mapping)\n",
    "dataset_df['Classification'].unique()"
   ]
  },
  {
   "cell_type": "code",
   "execution_count": 6,
   "id": "ee6174c1-a14c-4e3d-8487-02b1772412d6",
   "metadata": {},
   "outputs": [
    {
     "data": {
      "text/html": [
       "<div>\n",
       "<style scoped>\n",
       "    .dataframe tbody tr th:only-of-type {\n",
       "        vertical-align: middle;\n",
       "    }\n",
       "\n",
       "    .dataframe tbody tr th {\n",
       "        vertical-align: top;\n",
       "    }\n",
       "\n",
       "    .dataframe thead th {\n",
       "        text-align: right;\n",
       "    }\n",
       "</style>\n",
       "<table border=\"1\" class=\"dataframe\">\n",
       "  <thead>\n",
       "    <tr style=\"text-align: right;\">\n",
       "      <th></th>\n",
       "      <th>PC1</th>\n",
       "      <th>PC2</th>\n",
       "      <th>PC3</th>\n",
       "      <th>PC4</th>\n",
       "      <th>PC5</th>\n",
       "      <th>PC6</th>\n",
       "      <th>PC7</th>\n",
       "      <th>PC8</th>\n",
       "      <th>Classification</th>\n",
       "    </tr>\n",
       "  </thead>\n",
       "  <tbody>\n",
       "    <tr>\n",
       "      <th>0</th>\n",
       "      <td>-1.242828</td>\n",
       "      <td>-1.034493</td>\n",
       "      <td>-0.908909</td>\n",
       "      <td>1.071783</td>\n",
       "      <td>-0.207723</td>\n",
       "      <td>-0.363631</td>\n",
       "      <td>0.894638</td>\n",
       "      <td>-1.619584</td>\n",
       "      <td>0</td>\n",
       "    </tr>\n",
       "    <tr>\n",
       "      <th>1</th>\n",
       "      <td>-1.865118</td>\n",
       "      <td>-0.836295</td>\n",
       "      <td>-0.895838</td>\n",
       "      <td>0.768590</td>\n",
       "      <td>0.264140</td>\n",
       "      <td>0.581824</td>\n",
       "      <td>0.260887</td>\n",
       "      <td>-0.664959</td>\n",
       "      <td>0</td>\n",
       "    </tr>\n",
       "    <tr>\n",
       "      <th>2</th>\n",
       "      <td>0.634421</td>\n",
       "      <td>0.398214</td>\n",
       "      <td>-1.410996</td>\n",
       "      <td>1.988549</td>\n",
       "      <td>-1.210042</td>\n",
       "      <td>-0.135922</td>\n",
       "      <td>-0.438385</td>\n",
       "      <td>-0.038015</td>\n",
       "      <td>0</td>\n",
       "    </tr>\n",
       "    <tr>\n",
       "      <th>3</th>\n",
       "      <td>2.286736</td>\n",
       "      <td>0.499016</td>\n",
       "      <td>-0.662587</td>\n",
       "      <td>-0.054790</td>\n",
       "      <td>0.291652</td>\n",
       "      <td>-0.180719</td>\n",
       "      <td>0.205673</td>\n",
       "      <td>-0.224595</td>\n",
       "      <td>1</td>\n",
       "    </tr>\n",
       "    <tr>\n",
       "      <th>4</th>\n",
       "      <td>2.267561</td>\n",
       "      <td>0.560042</td>\n",
       "      <td>-0.745097</td>\n",
       "      <td>0.091726</td>\n",
       "      <td>0.188888</td>\n",
       "      <td>0.129086</td>\n",
       "      <td>-0.015100</td>\n",
       "      <td>-0.474906</td>\n",
       "      <td>1</td>\n",
       "    </tr>\n",
       "  </tbody>\n",
       "</table>\n",
       "</div>"
      ],
      "text/plain": [
       "        PC1       PC2       PC3       PC4       PC5       PC6       PC7  \\\n",
       "0 -1.242828 -1.034493 -0.908909  1.071783 -0.207723 -0.363631  0.894638   \n",
       "1 -1.865118 -0.836295 -0.895838  0.768590  0.264140  0.581824  0.260887   \n",
       "2  0.634421  0.398214 -1.410996  1.988549 -1.210042 -0.135922 -0.438385   \n",
       "3  2.286736  0.499016 -0.662587 -0.054790  0.291652 -0.180719  0.205673   \n",
       "4  2.267561  0.560042 -0.745097  0.091726  0.188888  0.129086 -0.015100   \n",
       "\n",
       "        PC8  Classification  \n",
       "0 -1.619584               0  \n",
       "1 -0.664959               0  \n",
       "2 -0.038015               0  \n",
       "3 -0.224595               1  \n",
       "4 -0.474906               1  "
      ]
     },
     "execution_count": 6,
     "metadata": {},
     "output_type": "execute_result"
    }
   ],
   "source": [
    "dataset_df.head()"
   ]
  },
  {
   "cell_type": "code",
   "execution_count": 7,
   "id": "47dab9a3-86b1-4c17-b453-04d4edd43f9e",
   "metadata": {},
   "outputs": [],
   "source": [
    "X=dataset_df.iloc[:,0:8].values\n",
    "y=dataset_df.iloc[:,8].values\n",
    "\n",
    "train_df, test_df, y_train, y_test = train_test_split(\n",
    "    X, y, test_size=0.2, random_state=0\n",
    ")\n",
    "\n",
    "train_df, val_df, y_train, y_val = train_test_split(\n",
    "    train_df, y_train, test_size=0.1, random_state=0\n",
    ")"
   ]
  },
  {
   "cell_type": "code",
   "execution_count": 8,
   "id": "a2890ed1-f9a3-4871-98e2-b6ff84f84b78",
   "metadata": {},
   "outputs": [
    {
     "data": {
      "text/plain": [
       "array([[ 2.54334337, -0.91545011, -0.6428566 , -0.41141396,  0.67488762,\n",
       "        -0.13343928,  0.1853217 ,  0.16034814],\n",
       "       [ 0.23706626, -0.17479143, -0.66488404, -0.75954589,  0.12499039,\n",
       "         0.20827554,  0.05805042,  0.40878098],\n",
       "       [ 1.59247313,  0.39520894, -1.4104498 ,  2.21445981, -0.56300083,\n",
       "        -0.46719934, -0.88643499,  1.77049174],\n",
       "       [-0.73108538,  2.2326867 , -0.68352372,  0.12323302, -0.87573861,\n",
       "         0.5031367 ,  0.82942597, -0.18107497],\n",
       "       [-3.56678604, -0.68733823, -0.63085172, -1.06986482, -0.18995892,\n",
       "         1.20820489,  0.42635704,  0.94303658]])"
      ]
     },
     "execution_count": 8,
     "metadata": {},
     "output_type": "execute_result"
    }
   ],
   "source": [
    "train_df[:5]"
   ]
  },
  {
   "cell_type": "code",
   "execution_count": 9,
   "id": "8adf62f5-7ab5-4456-ba28-52b2339bf13d",
   "metadata": {},
   "outputs": [
    {
     "data": {
      "text/plain": [
       "array([[ 1.68019018,  0.04110286, -0.83020886,  0.50887697,  0.59774165,\n",
       "        -0.57097618,  0.63531922, -0.05169427],\n",
       "       [ 1.36817632,  0.55152384, -0.60451892, -0.72433631,  0.05145121,\n",
       "         0.58360189,  0.38445963, -0.04570076],\n",
       "       [-5.89889555, -2.71845011, -1.19190223,  1.16866865,  1.1394311 ,\n",
       "         2.81159149,  0.03494212,  2.59445501],\n",
       "       [ 1.27522331, -0.61014929, -0.71089517,  1.29680227,  2.68947232,\n",
       "         0.91370681, -1.3370196 , -0.6752685 ],\n",
       "       [ 0.67701218, -2.37394683,  2.76799964, -0.51365114,  0.0860362 ,\n",
       "        -0.57059773, -0.72515435,  1.34037245]])"
      ]
     },
     "execution_count": 9,
     "metadata": {},
     "output_type": "execute_result"
    }
   ],
   "source": [
    "test_df[:5]"
   ]
  },
  {
   "cell_type": "code",
   "execution_count": 10,
   "id": "b893807f-d42b-43ba-b8ca-b786dfc265b5",
   "metadata": {},
   "outputs": [
    {
     "name": "stdout",
     "output_type": "stream",
     "text": [
      "0.8879837067209776\n"
     ]
    }
   ],
   "source": [
    "clf = DecisionTree(max_depth=25)\n",
    "clf.fit(train_df, y_train)\n",
    "predictions = clf.predict(test_df)\n",
    "\n",
    "def accuracy(y_test, y_pred):\n",
    "    return np.sum(y_test == y_pred) / len(y_test)\n",
    "\n",
    "acc = accuracy(y_test, predictions)\n",
    "print(acc)"
   ]
  },
  {
   "cell_type": "markdown",
   "id": "635e41ba-914e-40d8-9aff-00988331f90a",
   "metadata": {},
   "source": [
    "## Using the validation set for Hyperparameter tuning"
   ]
  },
  {
   "cell_type": "code",
   "execution_count": 11,
   "id": "d3b4cc0a-3c97-4915-91dc-69e61acfa076",
   "metadata": {},
   "outputs": [],
   "source": [
    "def hyperparameter_tuning(train_df, y_train, val_df, y_val, max_depth):\n",
    "    best_accuracy = 0\n",
    "    best_params = {}\n",
    "\n",
    "    for depth in max_depth:\n",
    "        # Initialize and train decision tree classifier\n",
    "        clf = DecisionTree(max_depth=depth)\n",
    "        clf.fit(train_df, y_train)\n",
    "\n",
    "        # Make predictions on validation set\n",
    "        predictions = clf.predict(val_df)\n",
    "\n",
    "        # Calculate accuracy\n",
    "        acc = accuracy(y_val, predictions)\n",
    "\n",
    "        # Check if current model is the best so far\n",
    "        if acc > best_accuracy:\n",
    "            best_accuracy = acc\n",
    "            best_params['max_depth'] = depth\n",
    "\n",
    "    return best_params, best_accuracy"
   ]
  },
  {
   "cell_type": "code",
   "execution_count": 12,
   "id": "1169d3b2-c78d-4ec3-9c0a-069b5ae981bf",
   "metadata": {},
   "outputs": [
    {
     "name": "stdout",
     "output_type": "stream",
     "text": [
      "Best hyperparameters: {'max_depth': 7}\n",
      "Best accuracy: 0.8778625954198473\n"
     ]
    }
   ],
   "source": [
    "# Define your range of hyperparameters to tune\n",
    "max_depth = range(1, 51)  # Range from 1 to 50 for max_depth\n",
    "\n",
    "# Perform hyperparameter tuning\n",
    "best_params, best_accuracy = hyperparameter_tuning(train_df, y_train, val_df, y_val, max_depth)\n",
    "\n",
    "print(\"Best hyperparameters:\", best_params)\n",
    "print(\"Best accuracy:\", best_accuracy)"
   ]
  },
  {
   "cell_type": "code",
   "execution_count": 12,
   "id": "e26fc0b0-0d45-4158-98fa-412ed5d5faa7",
   "metadata": {},
   "outputs": [
    {
     "name": "stdout",
     "output_type": "stream",
     "text": [
      "0.9012219959266803\n"
     ]
    }
   ],
   "source": [
    "clf = DecisionTree(max_depth=7)\n",
    "clf.fit(train_df, y_train)\n",
    "predictions = clf.predict(test_df)\n",
    "\n",
    "def accuracy(y_test, y_pred):\n",
    "    return np.sum(y_test == y_pred) / len(y_test)\n",
    "\n",
    "acc = accuracy(y_test, predictions)\n",
    "print(acc)"
   ]
  },
  {
   "cell_type": "markdown",
   "id": "73cda13b-4b24-498f-bcfb-a3574a881aa4",
   "metadata": {},
   "source": [
    "### Hyperparameter tuning (max_depth) on Validation set"
   ]
  },
  {
   "cell_type": "code",
   "execution_count": 14,
   "id": "bd2d9b3d-aa95-44e3-8536-3a6a535a39c7",
   "metadata": {},
   "outputs": [
    {
     "data": {
      "image/png": "[encoded data removed]",
      "text/plain": [
       "<Figure size 1000x600 with 1 Axes>"
      ]
     },
     "metadata": {},
     "output_type": "display_data"
    }
   ],
   "source": [
    "import matplotlib.pyplot as plt\n",
    "\n",
    "# Define your range of hyperparameters to tune\n",
    "max_depth = range(1, 51)  # Range from 1 to 50 for max_depth\n",
    "\n",
    "# Initialize lists to store accuracy values\n",
    "accuracies = []\n",
    "\n",
    "best_params = 0\n",
    "best_accuracy = 0\n",
    "# Iterate over max_depth values and perform hyperparameter tuning\n",
    "for depth in max_depth:\n",
    "    # Perform hyperparameter tuning for current max_depth\n",
    "    best_params, best_accuracy = hyperparameter_tuning(train_df, y_train, val_df, y_val, [depth])\n",
    "    accuracies.append(best_accuracy)\n",
    "\n",
    "print(\"Best hyperparameters:\", best_params)\n",
    "print(\"Best accuracy:\", best_accuracy)"
   ]
  },
  {
   "cell_type": "markdown",
   "id": "c0258b04-a19e-4afd-a88e-192d6458191a",
   "metadata": {},
   "source": [
    "### Hyperparameter tuning (max_depth) on Test Set"
   ]
  },
  {
   "cell_type": "code",
   "execution_count": 15,
   "id": "ecc4c9c5-5550-4eef-8c3d-0ecd04f6afbe",
   "metadata": {},
   "outputs": [
    {
     "data": {
      "image/png": "[encoded data removed]",
      "text/plain": [
       "<Figure size 1000x600 with 1 Axes>"
      ]
     },
     "metadata": {},
     "output_type": "display_data"
    }
   ],
   "source": [
    "import matplotlib.pyplot as plt\n",
    "\n",
    "# Define your range of hyperparameters to tune\n",
    "max_depth = range(1, 51)  # Range from 1 to 50 for max_depth\n",
    "\n",
    "# Initialize lists to store accuracy values\n",
    "accuracies = []\n",
    "\n",
    "# Iterate over max_depth values and perform hyperparameter tuning\n",
    "for depth in max_depth:\n",
    "    # Perform hyperparameter tuning for current max_depth\n",
    "    best_params, best_accuracy = hyperparameter_tuning(train_df, y_train, test_df, y_test, [depth])\n",
    "    accuracies.append(best_accuracy)\n",
    "\n",
    "# Plot the results\n",
    "plt.figure(figsize=(10, 6))\n",
    "plt.plot(max_depth, accuracies, marker='o', linestyle='-')\n",
    "plt.title('Accuracy vs Max Depth')\n",
    "plt.xlabel('Max Depth')\n",
    "plt.ylabel('Accuracy')\n",
    "plt.xticks(range(1, 51, 5))  # Set ticks at intervals of 5\n",
    "plt.grid(True)\n",
    "plt.show()"
   ]
  },
  {
   "cell_type": "markdown",
   "id": "96eafafb-38ca-4d03-b404-bb2909aeef8b",
   "metadata": {},
   "source": [
    "## SKLEARN"
   ]
  },
  {
   "cell_type": "markdown",
   "id": "39a2a493-3fb6-4305-b8e0-01cc9b0b99c6",
   "metadata": {},
   "source": [
    "### Remember to revert the train_df and test_df to pandas dataframe from numpy arrays"
   ]
  },
  {
   "cell_type": "markdown",
   "id": "82e8cb37-98db-4146-83fa-304ad6aa48c6",
   "metadata": {},
   "source": [
    "### Here we have restarted the kernel to get back the pandas dataframe."
   ]
  },
  {
   "cell_type": "code",
   "execution_count": 10,
   "id": "6b4161d0-f02e-4a84-a3c5-6aa72d957961",
   "metadata": {},
   "outputs": [],
   "source": [
    "from sklearn.model_selection import train_test_split\n",
    "\n",
    "# Assuming dataset_df is your original DataFrame\n",
    "\n",
    "# Step 1: Split the dataset into features (X) and target variable (y)\n",
    "X = dataset_df.drop(columns=['Classification']).values\n",
    "y = dataset_df['Classification'].values\n",
    "\n",
    "# Step 2: Split the dataset into training and testing sets\n",
    "X_train, X_test, y_train, y_test = train_test_split(X, y, test_size=0.2, random_state=42)\n",
    "\n",
    "# Step 3: Optionally, create DataFrames for train and test sets\n",
    "train_df = pd.DataFrame(X_train, columns=dataset_df.drop(columns=['Classification']).columns)\n",
    "train_df['Classification'] = y_train\n",
    "\n",
    "test_df = pd.DataFrame(X_test, columns=dataset_df.drop(columns=['Classification']).columns)\n",
    "test_df['Classification'] = y_test\n",
    "\n",
    "# Now you have train_df and test_df ready for further processing"
   ]
  },
  {
   "cell_type": "code",
   "execution_count": 11,
   "id": "38693ceb-2a06-440b-babb-77b597e09027",
   "metadata": {},
   "outputs": [
    {
     "name": "stdout",
     "output_type": "stream",
     "text": [
      "Accuracy: 0.8727087576374746\n"
     ]
    }
   ],
   "source": [
    "from sklearn.tree import DecisionTreeClassifier\n",
    "from sklearn.metrics import accuracy_score\n",
    "\n",
    "# Step 1: Prepare your data\n",
    "X_train = train_df.drop(columns=['Classification'])\n",
    "y_train = train_df['Classification']\n",
    "X_test = test_df.drop(columns=['Classification'])\n",
    "y_test = test_df['Classification']\n",
    "\n",
    "# Step 2: Create a decision tree classifier\n",
    "clf = DecisionTreeClassifier()\n",
    "\n",
    "# Step 3: Train the model on the training data\n",
    "clf.fit(X_train, y_train)\n",
    "\n",
    "# Step 4: Make predictions on the testing data\n",
    "y_pred = clf.predict(X_test)\n",
    "\n",
    "# Step 5: Evaluate the model\n",
    "accuracy = accuracy_score(y_test, y_pred)\n",
    "print(\"Accuracy:\", accuracy)"
   ]
  }
 ],
 "metadata": {
  "kernelspec": {
   "display_name": "Python 3 (ipykernel)",
   "language": "python",
   "name": "python3"
  },
  "language_info": {
   "codemirror_mode": {
    "name": "ipython",
    "version": 3
   },
   "file_extension": ".py",
   "mimetype": "text/x-python",
   "name": "python",
   "nbconvert_exporter": "python",
   "pygments_lexer": "ipython3",
   "version": "3.11.7"
  }
 },
 "nbformat": 4,
 "nbformat_minor": 5
}
