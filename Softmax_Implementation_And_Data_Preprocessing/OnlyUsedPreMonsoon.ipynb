{
 "cells": [
  {
   "cell_type": "markdown",
   "id": "6f944279",
   "metadata": {},
   "source": [
    "## Importing necessary libraries"
   ]
  },
  {
   "cell_type": "code",
   "execution_count": 1,
   "id": "27a8f79c-b21b-41ee-924d-d14f5756cb9a",
   "metadata": {},
   "outputs": [],
   "source": [
    "import numpy as np\n",
    "import pandas as pd \n",
    "import matplotlib.pyplot as plt\n",
    "import seaborn as sns\n",
    "from sklearn.metrics import confusion_matrix\n"
   ]
  },
  {
   "cell_type": "markdown",
   "id": "307c9c4a",
   "metadata": {},
   "source": [
    "## Storing in an array all values and preprocessing"
   ]
  },
  {
   "cell_type": "code",
   "execution_count": 2,
   "id": "6d54f353",
   "metadata": {},
   "outputs": [],
   "source": [
    "dataset_df1 = pd.read_csv(r\"./premonsoon/ground_water_quality_2018_pre.csv\")\n",
    "dataset_df2 = pd.read_csv(r\"./premonsoon/ground_water_quality_2019_pre.csv\")\n",
    "dataset_df3 = pd.read_csv(r\"./premonsoon/ground_water_quality_2020_pre.csv\")\n",
    "dataset_df4 = pd.read_csv(r\"./premonsoon/ground_water_quality_2021_pre.csv\")\n",
    "dataset_df5 = pd.read_csv(r\"./premonsoon/ground_water_quality_2022_pre.csv\")\n",
    "dataset_df = pd.concat([dataset_df1,dataset_df2,dataset_df3,dataset_df4,dataset_df5],join='outer',ignore_index=True)\n",
    "dataset_df.drop(columns=['RL_GIS','sno','village','mandal','district','gwl','season'],inplace=True)\n",
    "#dataset_df['season']=dataset_df['season'].astype(str).apply(lambda x: 0 if 'pre' in x.lower() else 1)"
   ]
  },
  {
   "cell_type": "code",
   "execution_count": 3,
   "id": "765797b9",
   "metadata": {},
   "outputs": [],
   "source": [
    "dataset_df['pH'] = pd.to_numeric(dataset_df['pH'], errors='coerce')\n",
    "\n",
    "# Now convert to float\n",
    "dataset_df['pH'] = dataset_df['pH'].astype(float)\n",
    "dataset_df['RSC  meq  / L'] = pd.to_numeric(dataset_df['RSC  meq  / L'], errors='coerce')\n",
    "\n",
    "# Now convert to float\n",
    "dataset_df['RSC  meq  / L'] = dataset_df['RSC  meq  / L'].astype(float)\n"
   ]
  },
  {
   "cell_type": "code",
   "execution_count": 4,
   "id": "394982e1",
   "metadata": {},
   "outputs": [],
   "source": [
    "#To remove rows containing null values\n",
    "for index, row in dataset_df.iterrows():\n",
    "    if 'NA' in row.values:\n",
    "        dataset_df.drop(index, inplace=True)\n",
    "    elif(row['Classification']=='OG')or(row['Classification']=='O.G')or(row['Classification']=='BELOW THE GRAPH')or(row['Classification']=='OUT OF SAR GRAPH')or(row['Classification']=='BG'):\n",
    "        dataset_df.drop(index, inplace=True)\n",
    "dataset_df.reset_index(drop=True, inplace=True)"
   ]
  },
  {
   "cell_type": "code",
   "execution_count": 5,
   "id": "3e1fa156",
   "metadata": {},
   "outputs": [],
   "source": [
    "null_threshold = len(dataset_df) * 0.25\n",
    "for column in dataset_df.columns:\n",
    "    null_count = dataset_df[column].isnull().sum()\n",
    "    if null_count > null_threshold:\n",
    "        dataset_df.drop(column, axis=1, inplace=True)\n",
    "    elif null_count > 0:\n",
    "        dataset_df.dropna(subset=[column], inplace=True)\n",
    "dataset_df.reset_index(drop=True, inplace=True)"
   ]
  },
  {
   "cell_type": "code",
   "execution_count": 6,
   "id": "8aab59e4",
   "metadata": {},
   "outputs": [
    {
     "data": {
      "text/plain": [
       "Index(['temp_id', 'long_gis', 'lat_gis', 'pH', 'E.C', 'TDS', 'CO3', 'HCO3',\n",
       "       'Cl', 'F', 'NO3 ', 'SO4', 'Na', 'K', 'Ca', 'Mg', 'T.H', 'SAR',\n",
       "       'Classification', 'RSC  meq  / L', 'Classification.1'],\n",
       "      dtype='object')"
      ]
     },
     "execution_count": 6,
     "metadata": {},
     "output_type": "execute_result"
    }
   ],
   "source": [
    "dataset_df.columns"
   ]
  },
  {
   "cell_type": "code",
   "execution_count": 7,
   "id": "6a411c4d",
   "metadata": {},
   "outputs": [
    {
     "data": {
      "text/html": [
       "<div>\n",
       "<style scoped>\n",
       "    .dataframe tbody tr th:only-of-type {\n",
       "        vertical-align: middle;\n",
       "    }\n",
       "\n",
       "    .dataframe tbody tr th {\n",
       "        vertical-align: top;\n",
       "    }\n",
       "\n",
       "    .dataframe thead th {\n",
       "        text-align: right;\n",
       "    }\n",
       "</style>\n",
       "<table border=\"1\" class=\"dataframe\">\n",
       "  <thead>\n",
       "    <tr style=\"text-align: right;\">\n",
       "      <th></th>\n",
       "      <th>temp_id</th>\n",
       "      <th>long_gis</th>\n",
       "      <th>lat_gis</th>\n",
       "      <th>pH</th>\n",
       "      <th>E.C</th>\n",
       "      <th>TDS</th>\n",
       "      <th>CO3</th>\n",
       "      <th>HCO3</th>\n",
       "      <th>Cl</th>\n",
       "      <th>F</th>\n",
       "      <th>NO3</th>\n",
       "      <th>SO4</th>\n",
       "      <th>Na</th>\n",
       "      <th>K</th>\n",
       "      <th>Ca</th>\n",
       "      <th>Mg</th>\n",
       "      <th>T.H</th>\n",
       "      <th>SAR</th>\n",
       "      <th>RSC  meq  / L</th>\n",
       "    </tr>\n",
       "  </thead>\n",
       "  <tbody>\n",
       "    <tr>\n",
       "      <th>count</th>\n",
       "      <td>3007.000000</td>\n",
       "      <td>3007.000000</td>\n",
       "      <td>3007.000000</td>\n",
       "      <td>3007.000000</td>\n",
       "      <td>3007.000000</td>\n",
       "      <td>3007.000000</td>\n",
       "      <td>3007.000000</td>\n",
       "      <td>3007.000000</td>\n",
       "      <td>3007.000000</td>\n",
       "      <td>3007.000000</td>\n",
       "      <td>3007.000000</td>\n",
       "      <td>3007.000000</td>\n",
       "      <td>3007.000000</td>\n",
       "      <td>3007.000000</td>\n",
       "      <td>3007.000000</td>\n",
       "      <td>3007.000000</td>\n",
       "      <td>3007.000000</td>\n",
       "      <td>3007.000000</td>\n",
       "      <td>3007.000000</td>\n",
       "    </tr>\n",
       "    <tr>\n",
       "      <th>mean</th>\n",
       "      <td>1631.737280</td>\n",
       "      <td>78.664097</td>\n",
       "      <td>17.685613</td>\n",
       "      <td>7.892321</td>\n",
       "      <td>1230.390289</td>\n",
       "      <td>788.590071</td>\n",
       "      <td>6.252078</td>\n",
       "      <td>265.828094</td>\n",
       "      <td>177.128367</td>\n",
       "      <td>1.055663</td>\n",
       "      <td>59.176319</td>\n",
       "      <td>48.094872</td>\n",
       "      <td>118.198773</td>\n",
       "      <td>8.292900</td>\n",
       "      <td>66.854074</td>\n",
       "      <td>48.030132</td>\n",
       "      <td>364.511154</td>\n",
       "      <td>2.816050</td>\n",
       "      <td>-1.853106</td>\n",
       "    </tr>\n",
       "    <tr>\n",
       "      <th>std</th>\n",
       "      <td>599.128708</td>\n",
       "      <td>4.624170</td>\n",
       "      <td>1.309679</td>\n",
       "      <td>0.443295</td>\n",
       "      <td>710.781943</td>\n",
       "      <td>455.693663</td>\n",
       "      <td>18.904291</td>\n",
       "      <td>125.909931</td>\n",
       "      <td>167.917689</td>\n",
       "      <td>0.800780</td>\n",
       "      <td>77.002700</td>\n",
       "      <td>57.651177</td>\n",
       "      <td>104.796983</td>\n",
       "      <td>19.461479</td>\n",
       "      <td>49.549758</td>\n",
       "      <td>33.058272</td>\n",
       "      <td>202.456424</td>\n",
       "      <td>2.615361</td>\n",
       "      <td>4.030678</td>\n",
       "    </tr>\n",
       "    <tr>\n",
       "      <th>min</th>\n",
       "      <td>1001.000000</td>\n",
       "      <td>0.000000</td>\n",
       "      <td>0.000000</td>\n",
       "      <td>6.350000</td>\n",
       "      <td>102.000000</td>\n",
       "      <td>65.280000</td>\n",
       "      <td>0.000000</td>\n",
       "      <td>10.000000</td>\n",
       "      <td>10.000000</td>\n",
       "      <td>0.000000</td>\n",
       "      <td>0.000000</td>\n",
       "      <td>0.000000</td>\n",
       "      <td>6.000000</td>\n",
       "      <td>0.000000</td>\n",
       "      <td>1.000000</td>\n",
       "      <td>1.000000</td>\n",
       "      <td>19.995888</td>\n",
       "      <td>0.232220</td>\n",
       "      <td>-31.194079</td>\n",
       "    </tr>\n",
       "    <tr>\n",
       "      <th>25%</th>\n",
       "      <td>1246.500000</td>\n",
       "      <td>78.272000</td>\n",
       "      <td>17.160000</td>\n",
       "      <td>7.605000</td>\n",
       "      <td>765.000000</td>\n",
       "      <td>490.000000</td>\n",
       "      <td>0.000000</td>\n",
       "      <td>180.000000</td>\n",
       "      <td>70.000000</td>\n",
       "      <td>0.540000</td>\n",
       "      <td>13.343500</td>\n",
       "      <td>16.000000</td>\n",
       "      <td>53.076413</td>\n",
       "      <td>2.000000</td>\n",
       "      <td>32.000000</td>\n",
       "      <td>24.310000</td>\n",
       "      <td>220.000000</td>\n",
       "      <td>1.360000</td>\n",
       "      <td>-3.200000</td>\n",
       "    </tr>\n",
       "    <tr>\n",
       "      <th>50%</th>\n",
       "      <td>1490.000000</td>\n",
       "      <td>78.810000</td>\n",
       "      <td>17.680000</td>\n",
       "      <td>7.930000</td>\n",
       "      <td>1045.000000</td>\n",
       "      <td>669.000000</td>\n",
       "      <td>0.000000</td>\n",
       "      <td>250.000000</td>\n",
       "      <td>130.000000</td>\n",
       "      <td>0.860000</td>\n",
       "      <td>34.900000</td>\n",
       "      <td>29.000000</td>\n",
       "      <td>88.000000</td>\n",
       "      <td>3.300000</td>\n",
       "      <td>56.000000</td>\n",
       "      <td>39.000000</td>\n",
       "      <td>320.000000</td>\n",
       "      <td>2.080659</td>\n",
       "      <td>-1.200000</td>\n",
       "    </tr>\n",
       "    <tr>\n",
       "      <th>75%</th>\n",
       "      <td>1757.500000</td>\n",
       "      <td>79.510000</td>\n",
       "      <td>18.360000</td>\n",
       "      <td>8.210000</td>\n",
       "      <td>1519.000000</td>\n",
       "      <td>974.000000</td>\n",
       "      <td>0.000000</td>\n",
       "      <td>330.000000</td>\n",
       "      <td>230.000000</td>\n",
       "      <td>1.310000</td>\n",
       "      <td>71.150000</td>\n",
       "      <td>54.000000</td>\n",
       "      <td>146.000000</td>\n",
       "      <td>7.000000</td>\n",
       "      <td>84.000000</td>\n",
       "      <td>63.000000</td>\n",
       "      <td>449.913651</td>\n",
       "      <td>3.216557</td>\n",
       "      <td>0.001316</td>\n",
       "    </tr>\n",
       "    <tr>\n",
       "      <th>max</th>\n",
       "      <td>4015.000000</td>\n",
       "      <td>81.180000</td>\n",
       "      <td>19.830000</td>\n",
       "      <td>10.590000</td>\n",
       "      <td>5560.000000</td>\n",
       "      <td>3558.400000</td>\n",
       "      <td>200.000000</td>\n",
       "      <td>1017.159189</td>\n",
       "      <td>1610.000000</td>\n",
       "      <td>7.940000</td>\n",
       "      <td>787.254750</td>\n",
       "      <td>644.000000</td>\n",
       "      <td>868.000000</td>\n",
       "      <td>356.000000</td>\n",
       "      <td>496.000000</td>\n",
       "      <td>384.000000</td>\n",
       "      <td>1939.703947</td>\n",
       "      <td>31.079547</td>\n",
       "      <td>18.200000</td>\n",
       "    </tr>\n",
       "  </tbody>\n",
       "</table>\n",
       "</div>"
      ],
      "text/plain": [
       "           temp_id     long_gis      lat_gis           pH          E.C  \\\n",
       "count  3007.000000  3007.000000  3007.000000  3007.000000  3007.000000   \n",
       "mean   1631.737280    78.664097    17.685613     7.892321  1230.390289   \n",
       "std     599.128708     4.624170     1.309679     0.443295   710.781943   \n",
       "min    1001.000000     0.000000     0.000000     6.350000   102.000000   \n",
       "25%    1246.500000    78.272000    17.160000     7.605000   765.000000   \n",
       "50%    1490.000000    78.810000    17.680000     7.930000  1045.000000   \n",
       "75%    1757.500000    79.510000    18.360000     8.210000  1519.000000   \n",
       "max    4015.000000    81.180000    19.830000    10.590000  5560.000000   \n",
       "\n",
       "               TDS          CO3         HCO3           Cl            F  \\\n",
       "count  3007.000000  3007.000000  3007.000000  3007.000000  3007.000000   \n",
       "mean    788.590071     6.252078   265.828094   177.128367     1.055663   \n",
       "std     455.693663    18.904291   125.909931   167.917689     0.800780   \n",
       "min      65.280000     0.000000    10.000000    10.000000     0.000000   \n",
       "25%     490.000000     0.000000   180.000000    70.000000     0.540000   \n",
       "50%     669.000000     0.000000   250.000000   130.000000     0.860000   \n",
       "75%     974.000000     0.000000   330.000000   230.000000     1.310000   \n",
       "max    3558.400000   200.000000  1017.159189  1610.000000     7.940000   \n",
       "\n",
       "              NO3           SO4           Na            K           Ca  \\\n",
       "count  3007.000000  3007.000000  3007.000000  3007.000000  3007.000000   \n",
       "mean     59.176319    48.094872   118.198773     8.292900    66.854074   \n",
       "std      77.002700    57.651177   104.796983    19.461479    49.549758   \n",
       "min       0.000000     0.000000     6.000000     0.000000     1.000000   \n",
       "25%      13.343500    16.000000    53.076413     2.000000    32.000000   \n",
       "50%      34.900000    29.000000    88.000000     3.300000    56.000000   \n",
       "75%      71.150000    54.000000   146.000000     7.000000    84.000000   \n",
       "max     787.254750   644.000000   868.000000   356.000000   496.000000   \n",
       "\n",
       "                Mg          T.H          SAR  RSC  meq  / L  \n",
       "count  3007.000000  3007.000000  3007.000000    3007.000000  \n",
       "mean     48.030132   364.511154     2.816050      -1.853106  \n",
       "std      33.058272   202.456424     2.615361       4.030678  \n",
       "min       1.000000    19.995888     0.232220     -31.194079  \n",
       "25%      24.310000   220.000000     1.360000      -3.200000  \n",
       "50%      39.000000   320.000000     2.080659      -1.200000  \n",
       "75%      63.000000   449.913651     3.216557       0.001316  \n",
       "max     384.000000  1939.703947    31.079547      18.200000  "
      ]
     },
     "execution_count": 7,
     "metadata": {},
     "output_type": "execute_result"
    }
   ],
   "source": [
    "dataset_df.describe()"
   ]
  },
  {
   "cell_type": "code",
   "execution_count": 8,
   "id": "2c63b872",
   "metadata": {},
   "outputs": [
    {
     "data": {
      "text/plain": [
       "(3007, 21)"
      ]
     },
     "execution_count": 8,
     "metadata": {},
     "output_type": "execute_result"
    }
   ],
   "source": [
    "dataset_df.shape"
   ]
  },
  {
   "cell_type": "code",
   "execution_count": 9,
   "id": "d182a632",
   "metadata": {},
   "outputs": [
    {
     "name": "stdout",
     "output_type": "stream",
     "text": [
      "<class 'pandas.core.frame.DataFrame'>\n",
      "RangeIndex: 3007 entries, 0 to 3006\n",
      "Data columns (total 21 columns):\n",
      " #   Column            Non-Null Count  Dtype  \n",
      "---  ------            --------------  -----  \n",
      " 0   temp_id           3007 non-null   float64\n",
      " 1   long_gis          3007 non-null   float64\n",
      " 2   lat_gis           3007 non-null   float64\n",
      " 3   pH                3007 non-null   float64\n",
      " 4   E.C               3007 non-null   float64\n",
      " 5   TDS               3007 non-null   float64\n",
      " 6   CO3               3007 non-null   float64\n",
      " 7   HCO3              3007 non-null   float64\n",
      " 8   Cl                3007 non-null   float64\n",
      " 9   F                 3007 non-null   float64\n",
      " 10  NO3               3007 non-null   float64\n",
      " 11  SO4               3007 non-null   float64\n",
      " 12  Na                3007 non-null   float64\n",
      " 13  K                 3007 non-null   float64\n",
      " 14  Ca                3007 non-null   float64\n",
      " 15  Mg                3007 non-null   float64\n",
      " 16  T.H               3007 non-null   float64\n",
      " 17  SAR               3007 non-null   float64\n",
      " 18  Classification    3007 non-null   object \n",
      " 19  RSC  meq  / L     3007 non-null   float64\n",
      " 20  Classification.1  3007 non-null   object \n",
      "dtypes: float64(19), object(2)\n",
      "memory usage: 493.5+ KB\n"
     ]
    }
   ],
   "source": [
    "dataset_df.info()"
   ]
  },
  {
   "cell_type": "code",
   "execution_count": 10,
   "id": "d7c79e5e",
   "metadata": {},
   "outputs": [
    {
     "name": "stdout",
     "output_type": "stream",
     "text": [
      "C3S1\n",
      "C2S1\n",
      "C3S2\n",
      "C4S1\n",
      "C4S2\n",
      "C1S1\n",
      "C4S3\n",
      "C4S4\n",
      "C3S3\n",
      "C3S4\n"
     ]
    }
   ],
   "source": [
    "all_labels=dataset_df['Classification'].unique()\n",
    "for label in all_labels:\n",
    "    print(label)"
   ]
  },
  {
   "cell_type": "code",
   "execution_count": 11,
   "id": "e4fef37a",
   "metadata": {},
   "outputs": [
    {
     "name": "stdout",
     "output_type": "stream",
     "text": [
      "0 0 0 0 0\n"
     ]
    }
   ],
   "source": [
    "print(len(dataset_df[dataset_df['Classification']=='OG']),len(dataset_df[dataset_df['Classification']=='O.G']),len(dataset_df[dataset_df['Classification']=='BELOW THE GRAPH']),len(dataset_df[dataset_df['Classification']=='OUT OF SAR GRAPH']),len(dataset_df[dataset_df['Classification']=='BG']))"
   ]
  },
  {
   "cell_type": "code",
   "execution_count": 12,
   "id": "a5ed7deb",
   "metadata": {},
   "outputs": [
    {
     "data": {
      "text/plain": [
       "array([0, 1, 2, 3, 4, 5, 6, 7, 8, 9], dtype=int64)"
      ]
     },
     "execution_count": 12,
     "metadata": {},
     "output_type": "execute_result"
    }
   ],
   "source": [
    "#encoding/labelling the target column\n",
    "label_mapping = {\n",
    "    label: index for index, label in enumerate(dataset_df['Classification'].unique())\n",
    "}\n",
    "# Map labels to numerical values\n",
    "dataset_df['Classification'] = dataset_df['Classification'].map(label_mapping)\n",
    "dataset_df['Classification'].unique()"
   ]
  },
  {
   "cell_type": "code",
   "execution_count": 13,
   "id": "038b9ee8",
   "metadata": {},
   "outputs": [
    {
     "data": {
      "text/plain": [
       "{'C3S1': 0,\n",
       " 'C2S1': 1,\n",
       " 'C3S2': 2,\n",
       " 'C4S1': 3,\n",
       " 'C4S2': 4,\n",
       " 'C1S1': 5,\n",
       " 'C4S3': 6,\n",
       " 'C4S4': 7,\n",
       " 'C3S3': 8,\n",
       " 'C3S4': 9}"
      ]
     },
     "execution_count": 13,
     "metadata": {},
     "output_type": "execute_result"
    }
   ],
   "source": [
    "label_mapping"
   ]
  },
  {
   "cell_type": "code",
   "execution_count": 14,
   "id": "e3c9d0eb",
   "metadata": {},
   "outputs": [],
   "source": [
    "#standardisation of the data\n",
    "means = dataset_df.drop(columns=['Classification','Classification.1']).mean()\n",
    "stds = dataset_df.drop(columns=['Classification','Classification.1']).std()\n",
    "for col in dataset_df.columns:\n",
    "    if col != 'Classification' and col != 'Classification.1':  # Exclude target column from standardization\n",
    "        dataset_df[col] = (dataset_df[col] - means[col]) / stds[col]"
   ]
  },
  {
   "cell_type": "code",
   "execution_count": 15,
   "id": "042431bd",
   "metadata": {},
   "outputs": [],
   "source": [
    "# randomising the dataframe and splitting to get train and test dataframes\n",
    "dataset_df = dataset_df.sample(frac=1, random_state=42)\n",
    "num_rows = len(dataset_df)\n",
    "train_size = int(0.8 * num_rows)\n",
    "test_size = num_rows - train_size\n",
    "# Split the DataFrame into training and testing sets\n",
    "train_dataset_df = dataset_df.head(train_size)\n",
    "test_dataset_df = dataset_df.tail(test_size)"
   ]
  },
  {
   "cell_type": "markdown",
   "id": "0f3ae0f5",
   "metadata": {},
   "source": [
    "## Implementation of softmax regression"
   ]
  },
  {
   "cell_type": "markdown",
   "id": "46cc0057",
   "metadata": {},
   "source": [
    "![image.png](softmaxExplanation.png)"
   ]
  },
  {
   "cell_type": "markdown",
   "id": "c350e5d1",
   "metadata": {},
   "source": [
    "The softmax regression predicts probability of any instance to belong to one of the class using softmax function. Here z1,z2,..,zc denote linear combination of input features. (c is number of classes here). Here gradient descent would be used to find the weights( which are used to calculate zi's and ultimately the probabilities)."
   ]
  },
  {
   "cell_type": "code",
   "execution_count": 16,
   "id": "ebb84e49",
   "metadata": {},
   "outputs": [
    {
     "name": "stdout",
     "output_type": "stream",
     "text": [
      "The shape of training data is (it is a dataframe): (2405, 19)\n"
     ]
    }
   ],
   "source": [
    "X_train = train_dataset_df.drop(columns=['Classification','Classification.1'], axis=1).values\n",
    "y_train = train_dataset_df['Classification'].values\n",
    "X_test = test_dataset_df.drop(columns=['Classification','Classification.1'], axis=1).values\n",
    "y_test = test_dataset_df['Classification'].values\n",
    "print(\"The shape of training data is (it is a dataframe):\",X_train.shape)\n",
    "num_of_features=X_train.shape[1]\n",
    "num_of_classes=len(label_mapping)"
   ]
  },
  {
   "cell_type": "code",
   "execution_count": 18,
   "id": "054552ff",
   "metadata": {},
   "outputs": [],
   "source": [
    "class SoftmaxRegression:\n",
    "    #Learning rate is preset to 0.01 and number of epochs is set to 1000\n",
    "    def __init__(self, num_of_features, num_of_classes, learning_rate=0.01, num_epochs=1000):\n",
    "        self.num_of_features = num_of_features\n",
    "        self.num_of_classes = num_of_classes\n",
    "        self.learning_rate = learning_rate\n",
    "        self.num_epochs = num_epochs\n",
    "        self.W = np.zeros((num_of_features, num_of_classes))#initially all weights and biases are set to 0\n",
    "        self.b = np.zeros(num_of_classes)\n",
    "        self.loss_history = []\n",
    "\n",
    "    def softmax(self, z):#softmax function, z is matrix, where each row corresponds to a sample and each column is a class\n",
    "        exp_z = np.exp(z - np.max(z, axis=1, keepdims=True))#subtracted the maximum value in each row to help prevent overflow and maintain numerical stability in exponentiation\n",
    "        return exp_z / np.sum(exp_z, axis=1, keepdims=True)\n",
    "\n",
    "    def one_hot_encode(self, y):#y is labels of input ,vector\n",
    "        one_hot_y = np.zeros((len(y), self.num_of_classes))\n",
    "        for i in range(len(y)):\n",
    "            one_hot_y[i, y[i]] = 1#for each row, column corresponding to that sample is set to one and others to 0\n",
    "        return one_hot_y\n",
    "\n",
    "    #forward and backward propogation\n",
    "    def fit(self, X, y):\n",
    "        y_one_hot = self.one_hot_encode(y)\n",
    "        #training loop\n",
    "        for epoch in range(self.num_epochs):\n",
    "            #forward propogation, \n",
    "            z = np.dot(X, self.W) + self.b#result z is also a matrix\n",
    "            y_pred = self.softmax(z)#result is a matrix\n",
    "            loss = self.cross_entropy_loss(y_one_hot, y_pred)#loss function used is cross entropy loss\n",
    "            self.loss_history.append(loss)\n",
    "            dz = y_pred - y_one_hot#update\n",
    "            dW = np.dot(X.T, dz)\n",
    "            db = np.sum(dz, axis=0)\n",
    "            #backward propogation\n",
    "            self.W -= self.learning_rate * dW\n",
    "            self.b -= self.learning_rate * db\n",
    "            if (epoch+1) % 100 == 0:\n",
    "                print(f\"Epoch {epoch+1}/{self.num_epochs}, Loss: {loss:.4f}\")\n",
    "        self.plot_loss()\n",
    "        \n",
    "    #loss over epochs\n",
    "    def plot_loss(self):\n",
    "        plt.plot(range(1, self.num_epochs + 1), self.loss_history, label='Training Loss')\n",
    "        plt.title('Training Loss over Epochs')\n",
    "        plt.xlabel('Epoch')\n",
    "        plt.ylabel('Loss')\n",
    "        plt.legend()\n",
    "        plt.show()\n",
    "    def cross_entropy_loss(self, y_true, y_pred):\n",
    "        epsilon = 1e-10\n",
    "        y_pred = np.clip(y_pred, epsilon, 1 - epsilon)  # Clip predicted probabilities to avoid zeros\n",
    "        return -np.mean(np.sum(y_true * np.log(y_pred), axis=1))#cross entropy function is used here\n",
    "\n",
    "\n",
    "    def predict(self, X):\n",
    "        z = np.dot(X, self.W) + self.b\n",
    "        y_pred = self.softmax(z)#softmax function gives predictions in each class for each sample\n",
    "        return np.argmax(y_pred, axis=1)#choose that class with largest probability for each class\n",
    "    \n",
    "    def evaluate(self, X, y,print_confusion_matrix=False):\n",
    "        y_pred = self.predict(X)\n",
    "        accuracy = np.mean(y_pred == y)\n",
    "        \n",
    "        # Calculate precision, recall, and F1-score\n",
    "        tp = np.sum((y_pred == y) & (y_pred == 1))#true positives\n",
    "        fp = np.sum((y_pred != y) & (y_pred == 1))#false positives\n",
    "        fn = np.sum((y_pred != y) & (y_pred == 0))#false negatives\n",
    "        if (tp + fp != 0):\n",
    "            precision = tp / (tp + fp)  \n",
    "        else:\n",
    "            precision = 0\n",
    "        if (tp + fn != 0):\n",
    "            recall = tp / (tp + fn) \n",
    "        else :\n",
    "            recall=0\n",
    "        if (precision+recall !=0):\n",
    "            f1_score = 2 * precision * recall / (precision + recall)\n",
    "        else :\n",
    "            f1_score=0\n",
    "        print(f\"Precision:{precision:.4f}\")\n",
    "        print(f\"Recall:{precision:.4f}\")\n",
    "        print(f\"Accuracy:{precision:.4f}\")\n",
    "        print(f\"F1_Score:{f1_score:.4f}\")\n",
    "        if print_confusion_matrix:\n",
    "            confusion = confusion_matrix(y, y_pred)\n",
    "            self.plot_confusion_matrix(confusion)\n",
    "    def plot_confusion_matrix(self, confusion_matrix):\n",
    "        plt.figure(figsize=(8, 6))\n",
    "        sns.heatmap(confusion_matrix, annot=True, fmt='d', cmap='Blues', cbar=False)\n",
    "        plt.xticks(ticks=range(len(label_mapping)), labels=label_mapping.keys())\n",
    "        plt.yticks(ticks=range(len(label_mapping)), labels=label_mapping.keys())\n",
    "        plt.title(\"Confusion Matrix\")\n",
    "        plt.xlabel('Predicted Label')\n",
    "        plt.ylabel('True Label')\n",
    "        plt.show()"
   ]
  },
  {
   "cell_type": "markdown",
   "id": "79d93827",
   "metadata": {},
   "source": [
    "## Fitting the model/training"
   ]
  },
  {
   "cell_type": "code",
   "execution_count": 19,
   "id": "55c7c05a",
   "metadata": {},
   "outputs": [
    {
     "name": "stdout",
     "output_type": "stream",
     "text": [
      "Epoch 100/1000, Loss: 1.3756\n",
      "Epoch 200/1000, Loss: 1.1780\n",
      "Epoch 300/1000, Loss: 1.0173\n",
      "Epoch 400/1000, Loss: 0.9524\n",
      "Epoch 500/1000, Loss: 0.9212\n",
      "Epoch 600/1000, Loss: 0.8505\n",
      "Epoch 700/1000, Loss: 0.8169\n",
      "Epoch 800/1000, Loss: 0.8931\n",
      "Epoch 900/1000, Loss: 0.6769\n",
      "Epoch 1000/1000, Loss: 0.8142\n"
     ]
    },
    {
     "data": {
      "image/png": "[encoded data removed]",
      "text/plain": [
       "<Figure size 640x480 with 1 Axes>"
      ]
     },
     "metadata": {},
     "output_type": "display_data"
    }
   ],
   "source": [
    "softmax_model = SoftmaxRegression(num_of_features, num_of_classes)\n",
    "softmax_model.fit(X_train, y_train)"
   ]
  },
  {
   "cell_type": "markdown",
   "id": "9329bca1",
   "metadata": {},
   "source": [
    "## Evaluating the model"
   ]
  },
  {
   "cell_type": "code",
   "execution_count": 22,
   "id": "29c46801",
   "metadata": {},
   "outputs": [
    {
     "name": "stdout",
     "output_type": "stream",
     "text": [
      "Precision:0.7818\n",
      "Recall:0.7818\n",
      "Accuracy:0.7818\n",
      "F1_Score:0.8323\n"
     ]
    },
    {
     "data": {
      "image/png": "[encoded data removed]",
      "text/plain": [
       "<Figure size 800x600 with 1 Axes>"
      ]
     },
     "metadata": {},
     "output_type": "display_data"
    }
   ],
   "source": [
    "softmax_model.evaluate(X_test,y_test,True)"
   ]
  },
  {
   "cell_type": "code",
   "execution_count": 23,
   "id": "2e736f96",
   "metadata": {},
   "outputs": [
    {
     "name": "stdout",
     "output_type": "stream",
     "text": [
      "Precision:0.9474\n",
      "Recall:0.9474\n",
      "Accuracy:0.9474\n",
      "F1_Score:0.9032\n"
     ]
    },
    {
     "data": {
      "image/png": "[encoded data removed]",
      "text/plain": [
       "<Figure size 800x600 with 1 Axes>"
      ]
     },
     "metadata": {},
     "output_type": "display_data"
    }
   ],
   "source": [
    "# with using scikit learns function\n",
    "from sklearn.linear_model import LogisticRegression\n",
    "from sklearn.metrics import precision_score, recall_score, f1_score, accuracy_score\n",
    "# Train softmax regression model\n",
    "softmax_reg = LogisticRegression(multi_class='multinomial', solver='lbfgs', max_iter=1000)\n",
    "softmax_reg.fit(X_train, y_train)\n",
    "# Predict on the test set\n",
    "y_pred = softmax_reg.predict(X_test)\n",
    "# Calculate accuracy,precision, recall,f1score\n",
    "accuracy = np.mean(y_pred == y_test)\n",
    "# Calculate precision, recall, and F1-score\n",
    "tp = np.sum((y_pred == y_test) & (y_pred == 1))#true positives\n",
    "fp = np.sum((y_pred != y_test) & (y_pred == 1))#false positives\n",
    "fn = np.sum((y_pred != y_test) & (y_pred == 0))#false negatives\n",
    "if (tp + fp != 0):\n",
    "    precision = tp / (tp + fp)  \n",
    "else:\n",
    "    precision = 0\n",
    "if (tp + fn != 0):\n",
    "    recall = tp / (tp + fn) \n",
    "else :\n",
    "    recall=0\n",
    "if (precision+recall !=0):\n",
    "    f1_score = 2 * precision * recall / (precision + recall)\n",
    "else :\n",
    "    f1_score=0\n",
    "print(f\"Precision:{precision:.4f}\")\n",
    "print(f\"Recall:{precision:.4f}\")\n",
    "print(f\"Accuracy:{precision:.4f}\")\n",
    "print(f\"F1_Score:{f1_score:.4f}\")\n",
    "\n",
    "conf_matrix = confusion_matrix(y_test, y_pred)\n",
    "plt.figure(figsize=(8, 6))\n",
    "sns.heatmap(conf_matrix, annot=True, fmt='d', cmap='Blues', cbar=False)\n",
    "plt.xticks(ticks=range(len(label_mapping)), labels=label_mapping.keys())\n",
    "plt.yticks(ticks=range(len(label_mapping)), labels=label_mapping.keys())\n",
    "plt.xlabel('Predicted Lables')\n",
    "plt.ylabel('True Labels')\n",
    "plt.title('Confusion Matrix')\n",
    "plt.show()"
   ]
  },
  {
   "cell_type": "code",
   "execution_count": null,
   "id": "abfaf935",
   "metadata": {},
   "outputs": [],
   "source": []
  }
 ],
 "metadata": {
  "kernelspec": {
   "display_name": "Python 3",
   "language": "python",
   "name": "python3"
  },
  "language_info": {
   "codemirror_mode": {
    "name": "ipython",
    "version": 3
   },
   "file_extension": ".py",
   "mimetype": "text/x-python",
   "name": "python",
   "nbconvert_exporter": "python",
   "pygments_lexer": "ipython3",
   "version": "3.11.8"
  }
 },
 "nbformat": 4,
 "nbformat_minor": 5
}
