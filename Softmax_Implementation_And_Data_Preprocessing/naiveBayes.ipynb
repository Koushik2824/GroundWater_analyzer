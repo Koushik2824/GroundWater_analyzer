{
 "cells": [
  {
   "cell_type": "markdown",
   "metadata": {},
   "source": [
    "# Gaussian Naive Bayes Implementation"
   ]
  },
  {
   "cell_type": "code",
   "execution_count": 1,
   "metadata": {},
   "outputs": [],
   "source": [
    "import numpy as np\n",
    "import pandas as pd \n",
    "import matplotlib.pyplot as plt\n",
    "import seaborn as sns\n",
    "from sklearn.metrics import confusion_matrix\n",
    "from sklearn.metrics import roc_curve, auc"
   ]
  },
  {
   "cell_type": "markdown",
   "metadata": {},
   "source": [
    "## Storing in an array all values and preprocessing"
   ]
  },
  {
   "cell_type": "code",
   "execution_count": 2,
   "metadata": {},
   "outputs": [],
   "source": [
    "dataset_df1 = pd.read_csv(r\"./premonsoon/ground_water_quality_2018_pre.csv\")\n",
    "dataset_df2 = pd.read_csv(r\"./premonsoon/ground_water_quality_2019_pre.csv\")\n",
    "dataset_df3 = pd.read_csv(r\"./premonsoon/ground_water_quality_2020_pre.csv\")\n",
    "dataset_df4 = pd.read_csv(r\"./premonsoon/ground_water_quality_2021_pre.csv\")\n",
    "dataset_df5 = pd.read_csv(r\"./premonsoon/ground_water_quality_2022_pre.csv\")\n",
    "dataset_df6 = pd.read_csv(r\"./postmonsoon/ground_water_quality_2018_post.csv\")\n",
    "dataset_df7 = pd.read_csv(r\"./postmonsoon/ground_water_quality_2019_post.csv\")\n",
    "dataset_df8 = pd.read_csv(r\"./postmonsoon/ground_water_quality_2020_post.csv\")\n",
    "dataset_df9 = pd.read_csv(r\"./postmonsoon/ground_water_quality_2021_post.csv\")\n",
    "dataset_df = pd.concat([dataset_df1,dataset_df2,dataset_df3,dataset_df4,dataset_df5,dataset_df6,dataset_df7,dataset_df8,dataset_df9],join='outer',ignore_index=True)\n",
    "dataset_df.drop(columns=['RL_GIS','sno','village','mandal','district','gwl'],inplace=True)\n",
    "dataset_df['season']=dataset_df['season'].astype(str).apply(lambda x: 0 if 'pre' in x.lower() else 1)"
   ]
  },
  {
   "cell_type": "code",
   "execution_count": 3,
   "metadata": {},
   "outputs": [],
   "source": [
    "dataset_df['pH'] = pd.to_numeric(dataset_df['pH'], errors='coerce')\n",
    "\n",
    "# Now convert to float\n",
    "dataset_df['pH'] = dataset_df['pH'].astype(float)\n",
    "dataset_df['RSC  meq  / L'] = pd.to_numeric(dataset_df['RSC  meq  / L'], errors='coerce')\n",
    "\n",
    "# Now convert to float\n",
    "dataset_df['RSC  meq  / L'] = dataset_df['RSC  meq  / L'].astype(float)"
   ]
  },
  {
   "cell_type": "code",
   "execution_count": 4,
   "metadata": {},
   "outputs": [],
   "source": [
    "#To remove rows containing null values\n",
    "for index, row in dataset_df.iterrows():\n",
    "    if 'NA' in row.values:\n",
    "        dataset_df.drop(index, inplace=True)\n",
    "    elif(row['Classification']=='OG')or(row['Classification']=='O.G')or(row['Classification']=='BELOW THE GRAPH')or(row['Classification']=='OUT OF SAR GRAPH')or(row['Classification']=='BG'):\n",
    "        dataset_df.drop(index, inplace=True)\n",
    "dataset_df.reset_index(drop=True, inplace=True)"
   ]
  },
  {
   "cell_type": "code",
   "execution_count": 5,
   "metadata": {},
   "outputs": [],
   "source": [
    "null_threshold = len(dataset_df) * 0.25\n",
    "for column in dataset_df.columns:\n",
    "    null_count = dataset_df[column].isnull().sum()\n",
    "    if null_count > null_threshold:\n",
    "        dataset_df.drop(column, axis=1, inplace=True)\n",
    "    elif null_count > 0:\n",
    "        dataset_df.dropna(subset=[column], inplace=True)\n",
    "dataset_df.reset_index(drop=True, inplace=True)"
   ]
  },
  {
   "cell_type": "code",
   "execution_count": 6,
   "metadata": {},
   "outputs": [
    {
     "data": {
      "text/plain": [
       "Index(['long_gis', 'lat_gis', 'season', 'pH', 'E.C', 'TDS', 'CO3', 'HCO3',\n",
       "       'Cl', 'F', 'NO3 ', 'SO4', 'Na', 'K', 'Ca', 'Mg', 'T.H', 'SAR',\n",
       "       'Classification', 'RSC  meq  / L', 'Classification.1'],\n",
       "      dtype='object')"
      ]
     },
     "execution_count": 6,
     "metadata": {},
     "output_type": "execute_result"
    }
   ],
   "source": [
    "dataset_df.columns"
   ]
  },
  {
   "cell_type": "code",
   "execution_count": 7,
   "metadata": {},
   "outputs": [
    {
     "data": {
      "text/html": [
       "<div>\n",
       "<style scoped>\n",
       "    .dataframe tbody tr th:only-of-type {\n",
       "        vertical-align: middle;\n",
       "    }\n",
       "\n",
       "    .dataframe tbody tr th {\n",
       "        vertical-align: top;\n",
       "    }\n",
       "\n",
       "    .dataframe thead th {\n",
       "        text-align: right;\n",
       "    }\n",
       "</style>\n",
       "<table border=\"1\" class=\"dataframe\">\n",
       "  <thead>\n",
       "    <tr style=\"text-align: right;\">\n",
       "      <th></th>\n",
       "      <th>long_gis</th>\n",
       "      <th>lat_gis</th>\n",
       "      <th>season</th>\n",
       "      <th>pH</th>\n",
       "      <th>E.C</th>\n",
       "      <th>TDS</th>\n",
       "      <th>CO3</th>\n",
       "      <th>HCO3</th>\n",
       "      <th>Cl</th>\n",
       "      <th>F</th>\n",
       "      <th>NO3</th>\n",
       "      <th>SO4</th>\n",
       "      <th>Na</th>\n",
       "      <th>K</th>\n",
       "      <th>Ca</th>\n",
       "      <th>Mg</th>\n",
       "      <th>T.H</th>\n",
       "      <th>SAR</th>\n",
       "      <th>RSC  meq  / L</th>\n",
       "    </tr>\n",
       "  </thead>\n",
       "  <tbody>\n",
       "    <tr>\n",
       "      <th>count</th>\n",
       "      <td>4907.000000</td>\n",
       "      <td>4907.000000</td>\n",
       "      <td>4907.000000</td>\n",
       "      <td>4907.000000</td>\n",
       "      <td>4907.000000</td>\n",
       "      <td>4907.000000</td>\n",
       "      <td>4907.00000</td>\n",
       "      <td>4907.000000</td>\n",
       "      <td>4907.000000</td>\n",
       "      <td>4907.000000</td>\n",
       "      <td>4907.000000</td>\n",
       "      <td>4907.000000</td>\n",
       "      <td>4907.000000</td>\n",
       "      <td>4907.000000</td>\n",
       "      <td>4907.000000</td>\n",
       "      <td>4907.000000</td>\n",
       "      <td>4907.000000</td>\n",
       "      <td>4907.000000</td>\n",
       "      <td>4907.000000</td>\n",
       "    </tr>\n",
       "    <tr>\n",
       "      <th>mean</th>\n",
       "      <td>66.772025</td>\n",
       "      <td>29.599037</td>\n",
       "      <td>0.387202</td>\n",
       "      <td>7.843799</td>\n",
       "      <td>1233.101610</td>\n",
       "      <td>789.881749</td>\n",
       "      <td>5.41146</td>\n",
       "      <td>268.275171</td>\n",
       "      <td>174.904218</td>\n",
       "      <td>1.037786</td>\n",
       "      <td>60.958889</td>\n",
       "      <td>49.644993</td>\n",
       "      <td>117.753836</td>\n",
       "      <td>8.560754</td>\n",
       "      <td>68.429224</td>\n",
       "      <td>47.475201</td>\n",
       "      <td>366.806037</td>\n",
       "      <td>2.790353</td>\n",
       "      <td>-1.865046</td>\n",
       "    </tr>\n",
       "    <tr>\n",
       "      <th>std</th>\n",
       "      <td>24.484076</td>\n",
       "      <td>24.306903</td>\n",
       "      <td>0.487160</td>\n",
       "      <td>0.458430</td>\n",
       "      <td>738.381329</td>\n",
       "      <td>473.032944</td>\n",
       "      <td>16.97257</td>\n",
       "      <td>128.542345</td>\n",
       "      <td>171.081966</td>\n",
       "      <td>0.812726</td>\n",
       "      <td>79.534434</td>\n",
       "      <td>63.171954</td>\n",
       "      <td>103.979699</td>\n",
       "      <td>21.907266</td>\n",
       "      <td>52.806161</td>\n",
       "      <td>34.073709</td>\n",
       "      <td>216.250298</td>\n",
       "      <td>2.589769</td>\n",
       "      <td>4.136058</td>\n",
       "    </tr>\n",
       "    <tr>\n",
       "      <th>min</th>\n",
       "      <td>0.000000</td>\n",
       "      <td>0.000000</td>\n",
       "      <td>0.000000</td>\n",
       "      <td>6.160000</td>\n",
       "      <td>102.000000</td>\n",
       "      <td>65.280000</td>\n",
       "      <td>0.00000</td>\n",
       "      <td>10.000000</td>\n",
       "      <td>10.000000</td>\n",
       "      <td>0.000000</td>\n",
       "      <td>0.000000</td>\n",
       "      <td>0.000000</td>\n",
       "      <td>2.000000</td>\n",
       "      <td>0.000000</td>\n",
       "      <td>1.000000</td>\n",
       "      <td>0.100000</td>\n",
       "      <td>19.995888</td>\n",
       "      <td>0.140000</td>\n",
       "      <td>-59.584539</td>\n",
       "    </tr>\n",
       "    <tr>\n",
       "      <th>25%</th>\n",
       "      <td>77.770000</td>\n",
       "      <td>17.270000</td>\n",
       "      <td>0.000000</td>\n",
       "      <td>7.530000</td>\n",
       "      <td>750.000000</td>\n",
       "      <td>481.000000</td>\n",
       "      <td>0.00000</td>\n",
       "      <td>180.000000</td>\n",
       "      <td>60.000000</td>\n",
       "      <td>0.520000</td>\n",
       "      <td>13.488318</td>\n",
       "      <td>16.000000</td>\n",
       "      <td>53.000000</td>\n",
       "      <td>2.000000</td>\n",
       "      <td>32.000000</td>\n",
       "      <td>24.310000</td>\n",
       "      <td>220.000000</td>\n",
       "      <td>1.360000</td>\n",
       "      <td>-3.200000</td>\n",
       "    </tr>\n",
       "    <tr>\n",
       "      <th>50%</th>\n",
       "      <td>78.474600</td>\n",
       "      <td>17.970000</td>\n",
       "      <td>0.000000</td>\n",
       "      <td>7.880000</td>\n",
       "      <td>1047.000000</td>\n",
       "      <td>670.720000</td>\n",
       "      <td>0.00000</td>\n",
       "      <td>250.000000</td>\n",
       "      <td>120.000000</td>\n",
       "      <td>0.840000</td>\n",
       "      <td>36.000000</td>\n",
       "      <td>29.000000</td>\n",
       "      <td>88.000000</td>\n",
       "      <td>3.220000</td>\n",
       "      <td>56.000000</td>\n",
       "      <td>39.000000</td>\n",
       "      <td>320.000000</td>\n",
       "      <td>2.090000</td>\n",
       "      <td>-1.200000</td>\n",
       "    </tr>\n",
       "    <tr>\n",
       "      <th>75%</th>\n",
       "      <td>79.290000</td>\n",
       "      <td>19.024500</td>\n",
       "      <td>1.000000</td>\n",
       "      <td>8.180000</td>\n",
       "      <td>1520.000000</td>\n",
       "      <td>974.000000</td>\n",
       "      <td>0.00000</td>\n",
       "      <td>340.000000</td>\n",
       "      <td>220.000000</td>\n",
       "      <td>1.290000</td>\n",
       "      <td>74.559325</td>\n",
       "      <td>55.000000</td>\n",
       "      <td>145.450000</td>\n",
       "      <td>6.870000</td>\n",
       "      <td>88.000000</td>\n",
       "      <td>63.000000</td>\n",
       "      <td>459.893092</td>\n",
       "      <td>3.225302</td>\n",
       "      <td>0.001000</td>\n",
       "    </tr>\n",
       "    <tr>\n",
       "      <th>max</th>\n",
       "      <td>81.180000</td>\n",
       "      <td>81.180000</td>\n",
       "      <td>1.000000</td>\n",
       "      <td>10.590000</td>\n",
       "      <td>9499.000000</td>\n",
       "      <td>6079.360000</td>\n",
       "      <td>200.00000</td>\n",
       "      <td>1240.000000</td>\n",
       "      <td>2480.000000</td>\n",
       "      <td>13.700000</td>\n",
       "      <td>1028.000000</td>\n",
       "      <td>860.000000</td>\n",
       "      <td>1154.000000</td>\n",
       "      <td>356.000000</td>\n",
       "      <td>640.000000</td>\n",
       "      <td>457.028000</td>\n",
       "      <td>3479.226974</td>\n",
       "      <td>31.435063</td>\n",
       "      <td>18.200822</td>\n",
       "    </tr>\n",
       "  </tbody>\n",
       "</table>\n",
       "</div>"
      ],
      "text/plain": [
       "          long_gis      lat_gis       season           pH          E.C  \\\n",
       "count  4907.000000  4907.000000  4907.000000  4907.000000  4907.000000   \n",
       "mean     66.772025    29.599037     0.387202     7.843799  1233.101610   \n",
       "std      24.484076    24.306903     0.487160     0.458430   738.381329   \n",
       "min       0.000000     0.000000     0.000000     6.160000   102.000000   \n",
       "25%      77.770000    17.270000     0.000000     7.530000   750.000000   \n",
       "50%      78.474600    17.970000     0.000000     7.880000  1047.000000   \n",
       "75%      79.290000    19.024500     1.000000     8.180000  1520.000000   \n",
       "max      81.180000    81.180000     1.000000    10.590000  9499.000000   \n",
       "\n",
       "               TDS         CO3         HCO3           Cl            F  \\\n",
       "count  4907.000000  4907.00000  4907.000000  4907.000000  4907.000000   \n",
       "mean    789.881749     5.41146   268.275171   174.904218     1.037786   \n",
       "std     473.032944    16.97257   128.542345   171.081966     0.812726   \n",
       "min      65.280000     0.00000    10.000000    10.000000     0.000000   \n",
       "25%     481.000000     0.00000   180.000000    60.000000     0.520000   \n",
       "50%     670.720000     0.00000   250.000000   120.000000     0.840000   \n",
       "75%     974.000000     0.00000   340.000000   220.000000     1.290000   \n",
       "max    6079.360000   200.00000  1240.000000  2480.000000    13.700000   \n",
       "\n",
       "              NO3           SO4           Na            K           Ca  \\\n",
       "count  4907.000000  4907.000000  4907.000000  4907.000000  4907.000000   \n",
       "mean     60.958889    49.644993   117.753836     8.560754    68.429224   \n",
       "std      79.534434    63.171954   103.979699    21.907266    52.806161   \n",
       "min       0.000000     0.000000     2.000000     0.000000     1.000000   \n",
       "25%      13.488318    16.000000    53.000000     2.000000    32.000000   \n",
       "50%      36.000000    29.000000    88.000000     3.220000    56.000000   \n",
       "75%      74.559325    55.000000   145.450000     6.870000    88.000000   \n",
       "max    1028.000000   860.000000  1154.000000   356.000000   640.000000   \n",
       "\n",
       "                Mg          T.H          SAR  RSC  meq  / L  \n",
       "count  4907.000000  4907.000000  4907.000000    4907.000000  \n",
       "mean     47.475201   366.806037     2.790353      -1.865046  \n",
       "std      34.073709   216.250298     2.589769       4.136058  \n",
       "min       0.100000    19.995888     0.140000     -59.584539  \n",
       "25%      24.310000   220.000000     1.360000      -3.200000  \n",
       "50%      39.000000   320.000000     2.090000      -1.200000  \n",
       "75%      63.000000   459.893092     3.225302       0.001000  \n",
       "max     457.028000  3479.226974    31.435063      18.200822  "
      ]
     },
     "execution_count": 7,
     "metadata": {},
     "output_type": "execute_result"
    }
   ],
   "source": [
    "dataset_df.describe()"
   ]
  },
  {
   "cell_type": "code",
   "execution_count": 8,
   "metadata": {},
   "outputs": [
    {
     "data": {
      "text/plain": [
       "(4907, 21)"
      ]
     },
     "execution_count": 8,
     "metadata": {},
     "output_type": "execute_result"
    }
   ],
   "source": [
    "dataset_df.shape"
   ]
  },
  {
   "cell_type": "code",
   "execution_count": 9,
   "metadata": {},
   "outputs": [
    {
     "name": "stdout",
     "output_type": "stream",
     "text": [
      "<class 'pandas.core.frame.DataFrame'>\n",
      "RangeIndex: 4907 entries, 0 to 4906\n",
      "Data columns (total 21 columns):\n",
      " #   Column            Non-Null Count  Dtype  \n",
      "---  ------            --------------  -----  \n",
      " 0   long_gis          4907 non-null   float64\n",
      " 1   lat_gis           4907 non-null   float64\n",
      " 2   season            4907 non-null   int64  \n",
      " 3   pH                4907 non-null   float64\n",
      " 4   E.C               4907 non-null   float64\n",
      " 5   TDS               4907 non-null   float64\n",
      " 6   CO3               4907 non-null   float64\n",
      " 7   HCO3              4907 non-null   float64\n",
      " 8   Cl                4907 non-null   float64\n",
      " 9   F                 4907 non-null   float64\n",
      " 10  NO3               4907 non-null   float64\n",
      " 11  SO4               4907 non-null   float64\n",
      " 12  Na                4907 non-null   float64\n",
      " 13  K                 4907 non-null   float64\n",
      " 14  Ca                4907 non-null   float64\n",
      " 15  Mg                4907 non-null   float64\n",
      " 16  T.H               4907 non-null   float64\n",
      " 17  SAR               4907 non-null   float64\n",
      " 18  Classification    4907 non-null   object \n",
      " 19  RSC  meq  / L     4907 non-null   float64\n",
      " 20  Classification.1  4907 non-null   object \n",
      "dtypes: float64(18), int64(1), object(2)\n",
      "memory usage: 805.2+ KB\n"
     ]
    }
   ],
   "source": [
    "dataset_df.info()"
   ]
  },
  {
   "cell_type": "code",
   "execution_count": 10,
   "metadata": {},
   "outputs": [
    {
     "name": "stdout",
     "output_type": "stream",
     "text": [
      "C3S1\n",
      "C2S1\n",
      "C3S2\n",
      "C4S1\n",
      "C4S2\n",
      "C1S1\n",
      "C4S3\n",
      "C4S4\n",
      "C3S3\n",
      "C3S4\n",
      "C2S2\n"
     ]
    }
   ],
   "source": [
    "all_labels=dataset_df['Classification'].unique()\n",
    "for label in all_labels:\n",
    "    print(label)"
   ]
  },
  {
   "cell_type": "code",
   "execution_count": 11,
   "metadata": {},
   "outputs": [
    {
     "name": "stdout",
     "output_type": "stream",
     "text": [
      "0 0 0 0 0\n"
     ]
    }
   ],
   "source": [
    "print(len(dataset_df[dataset_df['Classification']=='OG']),len(dataset_df[dataset_df['Classification']=='O.G']),len(dataset_df[dataset_df['Classification']=='BELOW THE GRAPH']),len(dataset_df[dataset_df['Classification']=='OUT OF SAR GRAPH']),len(dataset_df[dataset_df['Classification']=='BG']))"
   ]
  },
  {
   "cell_type": "code",
   "execution_count": 12,
   "metadata": {},
   "outputs": [
    {
     "data": {
      "text/plain": [
       "array([ 0,  1,  2,  3,  4,  5,  6,  7,  8,  9, 10], dtype=int64)"
      ]
     },
     "execution_count": 12,
     "metadata": {},
     "output_type": "execute_result"
    }
   ],
   "source": [
    "#encoding/labelling the target column\n",
    "label_mapping = {\n",
    "    label: index for index, label in enumerate(dataset_df['Classification'].unique())\n",
    "}\n",
    "# Map labels to numerical values\n",
    "dataset_df['Classification'] = dataset_df['Classification'].map(label_mapping)\n",
    "dataset_df['Classification'].unique()"
   ]
  },
  {
   "cell_type": "code",
   "execution_count": 13,
   "metadata": {},
   "outputs": [
    {
     "data": {
      "text/plain": [
       "{'C3S1': 0,\n",
       " 'C2S1': 1,\n",
       " 'C3S2': 2,\n",
       " 'C4S1': 3,\n",
       " 'C4S2': 4,\n",
       " 'C1S1': 5,\n",
       " 'C4S3': 6,\n",
       " 'C4S4': 7,\n",
       " 'C3S3': 8,\n",
       " 'C3S4': 9,\n",
       " 'C2S2': 10}"
      ]
     },
     "execution_count": 13,
     "metadata": {},
     "output_type": "execute_result"
    }
   ],
   "source": [
    "label_mapping"
   ]
  },
  {
   "cell_type": "code",
   "execution_count": 14,
   "metadata": {},
   "outputs": [],
   "source": [
    "#standardisation of the data\n",
    "means = dataset_df.drop(columns=['Classification','Classification.1']).mean()\n",
    "stds = dataset_df.drop(columns=['Classification','Classification.1']).std()\n",
    "for col in dataset_df.columns:\n",
    "    if col != 'Classification' and col != 'Classification.1':  # Exclude target column from standardization\n",
    "        dataset_df[col] = (dataset_df[col] - means[col]) / stds[col]\n",
    "#min max scaling\n",
    "#for col in dataset_df.columns:\n",
    "#    if col != 'Classification' and col!='Classification.1':  # Exclude the target column\n",
    "#        min_val = dataset_df[col].min()\n",
    "#        max_val = dataset_df[col].max()\n",
    "#        dataset_df[col] = (dataset_df[col] - min_val) / (max_val - min_val)"
   ]
  },
  {
   "cell_type": "code",
   "execution_count": 15,
   "metadata": {},
   "outputs": [],
   "source": [
    "# randomising the dataframe and splitting to get train and test dataframes\n",
    "dataset_df = dataset_df.sample(frac=1, random_state=42)\n",
    "num_rows = len(dataset_df)\n",
    "train_size = int(0.8 * num_rows)\n",
    "test_size = num_rows - train_size\n",
    "# Split the DataFrame into training and testing sets\n",
    "train_dataset_df = dataset_df.head(train_size)\n",
    "test_dataset_df = dataset_df.tail(test_size)"
   ]
  },
  {
   "cell_type": "markdown",
   "metadata": {},
   "source": [
    "## Gaussian Naive Bayes algorithm"
   ]
  },
  {
   "cell_type": "code",
   "execution_count": 16,
   "metadata": {},
   "outputs": [
    {
     "name": "stdout",
     "output_type": "stream",
     "text": [
      "The shape of training data is (it is a dataframe): (3925, 19)\n"
     ]
    }
   ],
   "source": [
    "X_train = train_dataset_df.drop(columns=['Classification','Classification.1'], axis=1).values\n",
    "y_train = train_dataset_df['Classification'].values\n",
    "X_test = test_dataset_df.drop(columns=['Classification','Classification.1'], axis=1).values\n",
    "y_test = test_dataset_df['Classification'].values\n",
    "print(\"The shape of training data is (it is a dataframe):\",X_train.shape)\n",
    "num_of_features=X_train.shape[1]\n",
    "num_of_classes=len(label_mapping)"
   ]
  },
  {
   "cell_type": "code",
   "execution_count": 51,
   "metadata": {},
   "outputs": [],
   "source": [
    "class GaussianNaiveBayes:\n",
    "    def __init__(self):\n",
    "        self.class_prior = None\n",
    "        self.class_mean = None\n",
    "        self.class_variance = None\n",
    "\n",
    "    def fit(self, X, y):\n",
    "        n_samples, n_features = X.shape\n",
    "        self.classes = np.unique(y)\n",
    "        n_classes = len(self.classes)\n",
    "        # Initialize arrays to store class prior, mean, and variance\n",
    "        self.class_prior = np.zeros(n_classes)\n",
    "        self.class_mean = np.zeros((n_classes, n_features))\n",
    "        self.class_variance = np.zeros((n_classes, n_features))\n",
    "        # Compute class prior, mean, and variance for each class\n",
    "        for i, c in enumerate(self.classes):\n",
    "            X_c = X[y == c]\n",
    "            print(X_c.shape)\n",
    "            self.class_prior[i] = len(X_c) / n_samples\n",
    "            self.class_mean[i, :] = X_c.mean(axis=0)\n",
    "            self.class_variance[i, :] = X_c.var(axis=0)\n",
    "\n",
    "    def predict(self, X):\n",
    "        y_pred = [self._predict_sample(x) for x in X]\n",
    "        return np.array(y_pred)\n",
    "    def predict_probabilities(self,x):\n",
    "        posteriors = []\n",
    "        # Compute posterior probability for each class\n",
    "        for i, c in enumerate(self.classes):\n",
    "            prior = self.class_prior[i]\n",
    "            class_conditional = np.prod(self._pdf(i, x)) # Changed to product instead of sum\n",
    "            posterior = prior * class_conditional\n",
    "            posteriors.append(posterior)\n",
    "        return posteriors\n",
    "    def _predict_sample(self, x):\n",
    "        posteriors = self.predict_probabilities(x)\n",
    "        # Predict class label with maximum posterior probability\n",
    "        return self.classes[np.argmax(posteriors)]\n",
    "\n",
    "    def _pdf(self, class_idx, x):\n",
    "        mean = self.class_mean[class_idx]\n",
    "        variance = self.class_variance[class_idx]\n",
    "        numerator = np.exp(-(x - mean) ** 2 / (2 * variance))\n",
    "        denominator = np.sqrt(2 * np.pi * variance)\n",
    "\n",
    "        # Handle potential division by zero errors\n",
    "        denominator[denominator == 0] = 1e-10\n",
    "        return numerator / denominator\n",
    "\n",
    "    def accuracy(self, y_true, y_pred):\n",
    "        return np.mean(y_true == y_pred)\n",
    "\n",
    "    def precision(self, y_true, y_pred):\n",
    "        tp = np.sum((y_pred == 1) & (y_true == 1))\n",
    "        fp = np.sum((y_pred == 1) & (y_true == 0))\n",
    "        # Handle potential division by zero errors\n",
    "        if tp + fp == 0:\n",
    "            return 0\n",
    "        return tp / (tp + fp)\n",
    "\n",
    "    def recall(self, y_true, y_pred):\n",
    "        tp = np.sum((y_pred == 1) & (y_true == 1))\n",
    "        fn = np.sum((y_pred == 0) & (y_true == 1))\n",
    "        # Handle potential division by zero errors\n",
    "        if tp + fn == 0:\n",
    "            return 0\n",
    "        return tp / (tp + fn)\n",
    "\n",
    "    def f1_score(self, y_true, y_pred):\n",
    "        precision_val = self.precision(y_true, y_pred)\n",
    "        recall_val = self.recall(y_true, y_pred)\n",
    "        # Handle potential division by zero errors\n",
    "        if precision_val + recall_val == 0:\n",
    "            return 0\n",
    "        return 2 * (precision_val * recall_val) / (precision_val + recall_val)\n",
    "    \n",
    "    def plot_confusion_matrix(self, confusion_matrix):\n",
    "        plt.figure(figsize=(8, 6))\n",
    "        sns.heatmap(confusion_matrix, annot=True, fmt='d', cmap='Blues', cbar=False)\n",
    "        plt.xticks(ticks=range(len(label_mapping)), labels=label_mapping.keys())\n",
    "        plt.yticks(ticks=range(len(label_mapping)), labels=label_mapping.keys())\n",
    "        plt.title(\"Confusion Matrix\")\n",
    "        plt.xlabel('Predicted Label')\n",
    "        plt.ylabel('True Label')\n",
    "        plt.show()\n"
   ]
  },
  {
   "cell_type": "code",
   "execution_count": 52,
   "metadata": {},
   "outputs": [
    {
     "name": "stdout",
     "output_type": "stream",
     "text": [
      "(2477, 19)\n",
      "(943, 19)\n",
      "(92, 19)\n",
      "(184, 19)\n",
      "(119, 19)\n",
      "(44, 19)\n",
      "(20, 19)\n",
      "(24, 19)\n",
      "(18, 19)\n",
      "(4, 19)\n"
     ]
    }
   ],
   "source": [
    "nb_classifier = GaussianNaiveBayes()\n",
    "nb_classifier.fit(X_train, y_train)"
   ]
  },
  {
   "cell_type": "code",
   "execution_count": 53,
   "metadata": {},
   "outputs": [
    {
     "name": "stderr",
     "output_type": "stream",
     "text": [
      "C:\\Users\\koush\\AppData\\Local\\Temp\\ipykernel_29436\\134115859.py:43: RuntimeWarning: divide by zero encountered in divide\n",
      "  numerator = np.exp(-(x - mean) ** 2 / (2 * variance))\n",
      "C:\\Users\\koush\\AppData\\Local\\Temp\\ipykernel_29436\\134115859.py:43: RuntimeWarning: invalid value encountered in divide\n",
      "  numerator = np.exp(-(x - mean) ** 2 / (2 * variance))\n"
     ]
    }
   ],
   "source": [
    "y_pred = nb_classifier.predict(X_test)"
   ]
  },
  {
   "cell_type": "code",
   "execution_count": 55,
   "metadata": {},
   "outputs": [
    {
     "name": "stdout",
     "output_type": "stream",
     "text": [
      "Precision is : 0.83\n",
      "Accuracy is : 0.3258655804480652\n",
      "Recall is : 0.9764705882352941\n",
      "F1-Score is : 0.8972972972972972\n"
     ]
    }
   ],
   "source": [
    "print(\"Precision is :\",nb_classifier.precision(y_test,y_pred))\n",
    "print(\"Accuracy is :\",nb_classifier.accuracy(y_test,y_pred))\n",
    "print(\"Recall is :\",nb_classifier.recall(y_test,y_pred))\n",
    "print(\"F1-Score is :\",nb_classifier.f1_score(y_test,y_pred))"
   ]
  },
  {
   "cell_type": "code",
   "execution_count": 56,
   "metadata": {},
   "outputs": [
    {
     "data": {
      "image/png": "[encoded data removed]",
      "text/plain": [
       "<Figure size 800x600 with 1 Axes>"
      ]
     },
     "metadata": {},
     "output_type": "display_data"
    }
   ],
   "source": [
    "confusion = confusion_matrix(y_test, y_pred)\n",
    "nb_classifier.plot_confusion_matrix(confusion)"
   ]
  },
  {
   "cell_type": "markdown",
   "metadata": {},
   "source": [
    "## sklearns implementation and results"
   ]
  },
  {
   "cell_type": "code",
   "execution_count": 22,
   "metadata": {},
   "outputs": [
    {
     "name": "stdout",
     "output_type": "stream",
     "text": [
      "Accuracy: 0.8329938900203666\n",
      "Precision: 0.41505683733787946\n",
      "Recall: 0.5671828871859388\n",
      "F1 Score: 0.4511183678027312\n"
     ]
    },
    {
     "data": {
      "image/png": "[encoded data removed]",
      "text/plain": [
       "<Figure size 800x600 with 1 Axes>"
      ]
     },
     "metadata": {},
     "output_type": "display_data"
    }
   ],
   "source": [
    "from sklearn.naive_bayes import GaussianNB\n",
    "from sklearn.metrics import accuracy_score, precision_score, recall_score, f1_score, confusion_matrix\n",
    "\n",
    "# Create and fit Gaussian Naive Bayes model\n",
    "gnb = GaussianNB()\n",
    "gnb.fit(X_train, y_train)\n",
    "\n",
    "# Make predictions\n",
    "y_pred = gnb.predict(X_test)\n",
    "\n",
    "# Calculate metrics\n",
    "accuracy = accuracy_score(y_test, y_pred)\n",
    "precision = precision_score(y_test, y_pred, average='macro', zero_division=0)\n",
    "recall = recall_score(y_test, y_pred, average='macro')\n",
    "f1 = f1_score(y_test, y_pred, average='macro')\n",
    "\n",
    "# Print metrics\n",
    "print(\"Accuracy:\", accuracy)\n",
    "print(\"Precision:\", precision)\n",
    "print(\"Recall:\", recall)\n",
    "print(\"F1 Score:\", f1)\n",
    "\n",
    "# Print confusion matrix\n",
    "confusion = confusion_matrix(y_test, y_pred)\n",
    "plt.figure(figsize=(8, 6))\n",
    "sns.heatmap(confusion, annot=True, fmt='d', cmap='Blues', cbar=False)\n",
    "plt.xticks(ticks=range(len(label_mapping)), labels=label_mapping.keys())\n",
    "plt.yticks(ticks=range(len(label_mapping)), labels=label_mapping.keys())\n",
    "plt.title(\"Confusion Matrix\")\n",
    "plt.xlabel('Predicted Label')\n",
    "plt.ylabel('True Label')\n",
    "plt.show()"
   ]
  },
  {
   "cell_type": "code",
   "execution_count": null,
   "metadata": {},
   "outputs": [],
   "source": []
  }
 ],
 "metadata": {
  "kernelspec": {
   "display_name": "Python 3",
   "language": "python",
   "name": "python3"
  },
  "language_info": {
   "codemirror_mode": {
    "name": "ipython",
    "version": 3
   },
   "file_extension": ".py",
   "mimetype": "text/x-python",
   "name": "python",
   "nbconvert_exporter": "python",
   "pygments_lexer": "ipython3",
   "version": "3.11.8"
  }
 },
 "nbformat": 4,
 "nbformat_minor": 2
}
