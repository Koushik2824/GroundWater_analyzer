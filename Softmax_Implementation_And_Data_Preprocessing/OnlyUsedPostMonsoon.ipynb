{
 "cells": [
  {
   "cell_type": "markdown",
   "id": "6f944279",
   "metadata": {},
   "source": [
    "## Importing necessary libraries"
   ]
  },
  {
   "cell_type": "code",
   "execution_count": 1,
   "id": "27a8f79c-b21b-41ee-924d-d14f5756cb9a",
   "metadata": {},
   "outputs": [],
   "source": [
    "import numpy as np\n",
    "import pandas as pd \n",
    "import matplotlib.pyplot as plt\n",
    "import seaborn as sns\n",
    "from sklearn.metrics import confusion_matrix\n"
   ]
  },
  {
   "cell_type": "markdown",
   "id": "307c9c4a",
   "metadata": {},
   "source": [
    "## Storing in an array all values and preprocessing"
   ]
  },
  {
   "cell_type": "code",
   "execution_count": 3,
   "id": "6d54f353",
   "metadata": {},
   "outputs": [],
   "source": [
    "dataset_df6 = pd.read_csv(r\"./postmonsoon/ground_water_quality_2018_post.csv\")\n",
    "dataset_df7 = pd.read_csv(r\"./postmonsoon/ground_water_quality_2019_post.csv\")\n",
    "dataset_df8 = pd.read_csv(r\"./postmonsoon/ground_water_quality_2020_post.csv\")\n",
    "dataset_df9 = pd.read_csv(r\"./postmonsoon/ground_water_quality_2021_post.csv\")\n",
    "dataset_df = pd.concat([dataset_df6,dataset_df7,dataset_df8,dataset_df9],join='outer',ignore_index=True)\n",
    "dataset_df.drop(columns=['RL_GIS','sno','village','mandal','district','season'],inplace=True)\n",
    "#dataset_df['season']=dataset_df['season'].astype(str).apply(lambda x: 0 if 'pre' in x.lower() else 1)"
   ]
  },
  {
   "cell_type": "code",
   "execution_count": 4,
   "id": "765797b9",
   "metadata": {},
   "outputs": [],
   "source": [
    "dataset_df['pH'] = pd.to_numeric(dataset_df['pH'], errors='coerce')\n",
    "\n",
    "# Now convert to float\n",
    "dataset_df['pH'] = dataset_df['pH'].astype(float)\n",
    "dataset_df['RSC  meq  / L'] = pd.to_numeric(dataset_df['RSC  meq  / L'], errors='coerce')\n",
    "\n",
    "# Now convert to float\n",
    "dataset_df['RSC  meq  / L'] = dataset_df['RSC  meq  / L'].astype(float)\n"
   ]
  },
  {
   "cell_type": "code",
   "execution_count": 5,
   "id": "394982e1",
   "metadata": {},
   "outputs": [],
   "source": [
    "#To remove rows containing null values\n",
    "for index, row in dataset_df.iterrows():\n",
    "    if 'NA' in row.values:\n",
    "        dataset_df.drop(index, inplace=True)\n",
    "    elif(row['Classification']=='OG')or(row['Classification']=='O.G')or(row['Classification']=='BELOW THE GRAPH')or(row['Classification']=='OUT OF SAR GRAPH')or(row['Classification']=='BG'):\n",
    "        dataset_df.drop(index, inplace=True)\n",
    "dataset_df.reset_index(drop=True, inplace=True)"
   ]
  },
  {
   "cell_type": "code",
   "execution_count": 6,
   "id": "3e1fa156",
   "metadata": {},
   "outputs": [],
   "source": [
    "null_threshold = len(dataset_df) * 0.25\n",
    "for column in dataset_df.columns:\n",
    "    null_count = dataset_df[column].isnull().sum()\n",
    "    if null_count > null_threshold:\n",
    "        dataset_df.drop(column, axis=1, inplace=True)\n",
    "    elif null_count > 0:\n",
    "        dataset_df.dropna(subset=[column], inplace=True)\n",
    "dataset_df.reset_index(drop=True, inplace=True)"
   ]
  },
  {
   "cell_type": "code",
   "execution_count": 7,
   "id": "8aab59e4",
   "metadata": {},
   "outputs": [
    {
     "data": {
      "text/plain": [
       "Index(['lat_gis', 'long_gis', 'pH', 'E.C', 'TDS', 'CO3', 'HCO3', 'Cl', 'F',\n",
       "       'NO3 ', 'SO4', 'Na', 'K', 'Ca', 'Mg', 'T.H', 'SAR', 'Classification',\n",
       "       'RSC  meq  / L', 'Classification.1'],\n",
       "      dtype='object')"
      ]
     },
     "execution_count": 7,
     "metadata": {},
     "output_type": "execute_result"
    }
   ],
   "source": [
    "dataset_df.columns"
   ]
  },
  {
   "cell_type": "code",
   "execution_count": 8,
   "id": "6a411c4d",
   "metadata": {},
   "outputs": [
    {
     "data": {
      "text/html": [
       "<div>\n",
       "<style scoped>\n",
       "    .dataframe tbody tr th:only-of-type {\n",
       "        vertical-align: middle;\n",
       "    }\n",
       "\n",
       "    .dataframe tbody tr th {\n",
       "        vertical-align: top;\n",
       "    }\n",
       "\n",
       "    .dataframe thead th {\n",
       "        text-align: right;\n",
       "    }\n",
       "</style>\n",
       "<table border=\"1\" class=\"dataframe\">\n",
       "  <thead>\n",
       "    <tr style=\"text-align: right;\">\n",
       "      <th></th>\n",
       "      <th>lat_gis</th>\n",
       "      <th>long_gis</th>\n",
       "      <th>pH</th>\n",
       "      <th>E.C</th>\n",
       "      <th>TDS</th>\n",
       "      <th>CO3</th>\n",
       "      <th>HCO3</th>\n",
       "      <th>Cl</th>\n",
       "      <th>F</th>\n",
       "      <th>NO3</th>\n",
       "      <th>SO4</th>\n",
       "      <th>Na</th>\n",
       "      <th>K</th>\n",
       "      <th>Ca</th>\n",
       "      <th>Mg</th>\n",
       "      <th>T.H</th>\n",
       "      <th>SAR</th>\n",
       "      <th>RSC  meq  / L</th>\n",
       "    </tr>\n",
       "  </thead>\n",
       "  <tbody>\n",
       "    <tr>\n",
       "      <th>count</th>\n",
       "      <td>1900.000000</td>\n",
       "      <td>1900.000000</td>\n",
       "      <td>1900.000000</td>\n",
       "      <td>1900.000000</td>\n",
       "      <td>1900.000000</td>\n",
       "      <td>1900.000000</td>\n",
       "      <td>1900.000000</td>\n",
       "      <td>1900.000000</td>\n",
       "      <td>1900.000000</td>\n",
       "      <td>1900.000000</td>\n",
       "      <td>1900.000000</td>\n",
       "      <td>1900.000000</td>\n",
       "      <td>1900.000000</td>\n",
       "      <td>1900.000000</td>\n",
       "      <td>1900.000000</td>\n",
       "      <td>1900.000000</td>\n",
       "      <td>1900.000000</td>\n",
       "      <td>1900.000000</td>\n",
       "    </tr>\n",
       "    <tr>\n",
       "      <th>mean</th>\n",
       "      <td>48.453599</td>\n",
       "      <td>47.951256</td>\n",
       "      <td>7.767005</td>\n",
       "      <td>1237.392632</td>\n",
       "      <td>791.926000</td>\n",
       "      <td>4.081071</td>\n",
       "      <td>272.147993</td>\n",
       "      <td>171.384211</td>\n",
       "      <td>1.009494</td>\n",
       "      <td>63.780039</td>\n",
       "      <td>52.098263</td>\n",
       "      <td>117.049666</td>\n",
       "      <td>8.984668</td>\n",
       "      <td>70.922105</td>\n",
       "      <td>46.596948</td>\n",
       "      <td>370.437992</td>\n",
       "      <td>2.749684</td>\n",
       "      <td>-1.883941</td>\n",
       "    </tr>\n",
       "    <tr>\n",
       "      <th>std</th>\n",
       "      <td>30.712205</td>\n",
       "      <td>30.602584</td>\n",
       "      <td>0.471427</td>\n",
       "      <td>780.240512</td>\n",
       "      <td>499.361537</td>\n",
       "      <td>13.252392</td>\n",
       "      <td>132.542961</td>\n",
       "      <td>175.960854</td>\n",
       "      <td>0.830707</td>\n",
       "      <td>83.327053</td>\n",
       "      <td>70.984858</td>\n",
       "      <td>102.696470</td>\n",
       "      <td>25.299169</td>\n",
       "      <td>57.510218</td>\n",
       "      <td>35.612862</td>\n",
       "      <td>236.452278</td>\n",
       "      <td>2.548896</td>\n",
       "      <td>4.298570</td>\n",
       "    </tr>\n",
       "    <tr>\n",
       "      <th>min</th>\n",
       "      <td>0.000000</td>\n",
       "      <td>0.000000</td>\n",
       "      <td>6.160000</td>\n",
       "      <td>115.000000</td>\n",
       "      <td>74.000000</td>\n",
       "      <td>0.000000</td>\n",
       "      <td>10.000000</td>\n",
       "      <td>10.000000</td>\n",
       "      <td>0.010000</td>\n",
       "      <td>0.000000</td>\n",
       "      <td>1.000000</td>\n",
       "      <td>2.000000</td>\n",
       "      <td>0.000000</td>\n",
       "      <td>8.000000</td>\n",
       "      <td>0.100000</td>\n",
       "      <td>39.991776</td>\n",
       "      <td>0.140000</td>\n",
       "      <td>-59.584539</td>\n",
       "    </tr>\n",
       "    <tr>\n",
       "      <th>25%</th>\n",
       "      <td>17.696345</td>\n",
       "      <td>17.680000</td>\n",
       "      <td>7.420000</td>\n",
       "      <td>731.750000</td>\n",
       "      <td>468.000000</td>\n",
       "      <td>0.000000</td>\n",
       "      <td>173.290362</td>\n",
       "      <td>60.000000</td>\n",
       "      <td>0.490000</td>\n",
       "      <td>13.488318</td>\n",
       "      <td>16.000000</td>\n",
       "      <td>52.000000</td>\n",
       "      <td>2.000000</td>\n",
       "      <td>32.000000</td>\n",
       "      <td>24.000000</td>\n",
       "      <td>220.000000</td>\n",
       "      <td>1.378755</td>\n",
       "      <td>-3.198561</td>\n",
       "    </tr>\n",
       "    <tr>\n",
       "      <th>50%</th>\n",
       "      <td>77.455000</td>\n",
       "      <td>19.590000</td>\n",
       "      <td>7.800000</td>\n",
       "      <td>1049.500000</td>\n",
       "      <td>671.500000</td>\n",
       "      <td>0.000000</td>\n",
       "      <td>257.224388</td>\n",
       "      <td>120.000000</td>\n",
       "      <td>0.820000</td>\n",
       "      <td>38.927205</td>\n",
       "      <td>29.000000</td>\n",
       "      <td>88.256151</td>\n",
       "      <td>3.100000</td>\n",
       "      <td>56.000000</td>\n",
       "      <td>38.896000</td>\n",
       "      <td>319.962993</td>\n",
       "      <td>2.097923</td>\n",
       "      <td>-1.197780</td>\n",
       "    </tr>\n",
       "    <tr>\n",
       "      <th>75%</th>\n",
       "      <td>78.920000</td>\n",
       "      <td>78.620555</td>\n",
       "      <td>8.130000</td>\n",
       "      <td>1520.750000</td>\n",
       "      <td>973.350000</td>\n",
       "      <td>0.000000</td>\n",
       "      <td>350.000000</td>\n",
       "      <td>220.000000</td>\n",
       "      <td>1.260000</td>\n",
       "      <td>79.069775</td>\n",
       "      <td>57.000000</td>\n",
       "      <td>145.050000</td>\n",
       "      <td>6.607500</td>\n",
       "      <td>88.000000</td>\n",
       "      <td>58.344000</td>\n",
       "      <td>459.917763</td>\n",
       "      <td>3.236586</td>\n",
       "      <td>0.000822</td>\n",
       "    </tr>\n",
       "    <tr>\n",
       "      <th>max</th>\n",
       "      <td>81.180000</td>\n",
       "      <td>80.920000</td>\n",
       "      <td>10.440000</td>\n",
       "      <td>9499.000000</td>\n",
       "      <td>6079.360000</td>\n",
       "      <td>100.000000</td>\n",
       "      <td>1240.000000</td>\n",
       "      <td>2480.000000</td>\n",
       "      <td>13.700000</td>\n",
       "      <td>1028.000000</td>\n",
       "      <td>860.000000</td>\n",
       "      <td>1154.000000</td>\n",
       "      <td>354.600000</td>\n",
       "      <td>640.000000</td>\n",
       "      <td>457.028000</td>\n",
       "      <td>3479.226974</td>\n",
       "      <td>31.435063</td>\n",
       "      <td>18.200822</td>\n",
       "    </tr>\n",
       "  </tbody>\n",
       "</table>\n",
       "</div>"
      ],
      "text/plain": [
       "           lat_gis     long_gis           pH          E.C          TDS  \\\n",
       "count  1900.000000  1900.000000  1900.000000  1900.000000  1900.000000   \n",
       "mean     48.453599    47.951256     7.767005  1237.392632   791.926000   \n",
       "std      30.712205    30.602584     0.471427   780.240512   499.361537   \n",
       "min       0.000000     0.000000     6.160000   115.000000    74.000000   \n",
       "25%      17.696345    17.680000     7.420000   731.750000   468.000000   \n",
       "50%      77.455000    19.590000     7.800000  1049.500000   671.500000   \n",
       "75%      78.920000    78.620555     8.130000  1520.750000   973.350000   \n",
       "max      81.180000    80.920000    10.440000  9499.000000  6079.360000   \n",
       "\n",
       "               CO3         HCO3           Cl            F         NO3   \\\n",
       "count  1900.000000  1900.000000  1900.000000  1900.000000  1900.000000   \n",
       "mean      4.081071   272.147993   171.384211     1.009494    63.780039   \n",
       "std      13.252392   132.542961   175.960854     0.830707    83.327053   \n",
       "min       0.000000    10.000000    10.000000     0.010000     0.000000   \n",
       "25%       0.000000   173.290362    60.000000     0.490000    13.488318   \n",
       "50%       0.000000   257.224388   120.000000     0.820000    38.927205   \n",
       "75%       0.000000   350.000000   220.000000     1.260000    79.069775   \n",
       "max     100.000000  1240.000000  2480.000000    13.700000  1028.000000   \n",
       "\n",
       "               SO4           Na            K           Ca           Mg  \\\n",
       "count  1900.000000  1900.000000  1900.000000  1900.000000  1900.000000   \n",
       "mean     52.098263   117.049666     8.984668    70.922105    46.596948   \n",
       "std      70.984858   102.696470    25.299169    57.510218    35.612862   \n",
       "min       1.000000     2.000000     0.000000     8.000000     0.100000   \n",
       "25%      16.000000    52.000000     2.000000    32.000000    24.000000   \n",
       "50%      29.000000    88.256151     3.100000    56.000000    38.896000   \n",
       "75%      57.000000   145.050000     6.607500    88.000000    58.344000   \n",
       "max     860.000000  1154.000000   354.600000   640.000000   457.028000   \n",
       "\n",
       "               T.H          SAR  RSC  meq  / L  \n",
       "count  1900.000000  1900.000000    1900.000000  \n",
       "mean    370.437992     2.749684      -1.883941  \n",
       "std     236.452278     2.548896       4.298570  \n",
       "min      39.991776     0.140000     -59.584539  \n",
       "25%     220.000000     1.378755      -3.198561  \n",
       "50%     319.962993     2.097923      -1.197780  \n",
       "75%     459.917763     3.236586       0.000822  \n",
       "max    3479.226974    31.435063      18.200822  "
      ]
     },
     "execution_count": 8,
     "metadata": {},
     "output_type": "execute_result"
    }
   ],
   "source": [
    "dataset_df.describe()"
   ]
  },
  {
   "cell_type": "code",
   "execution_count": 9,
   "id": "2c63b872",
   "metadata": {},
   "outputs": [
    {
     "data": {
      "text/plain": [
       "(1900, 20)"
      ]
     },
     "execution_count": 9,
     "metadata": {},
     "output_type": "execute_result"
    }
   ],
   "source": [
    "dataset_df.shape"
   ]
  },
  {
   "cell_type": "code",
   "execution_count": 10,
   "id": "d182a632",
   "metadata": {},
   "outputs": [
    {
     "name": "stdout",
     "output_type": "stream",
     "text": [
      "<class 'pandas.core.frame.DataFrame'>\n",
      "RangeIndex: 1900 entries, 0 to 1899\n",
      "Data columns (total 20 columns):\n",
      " #   Column            Non-Null Count  Dtype  \n",
      "---  ------            --------------  -----  \n",
      " 0   lat_gis           1900 non-null   float64\n",
      " 1   long_gis          1900 non-null   float64\n",
      " 2   pH                1900 non-null   float64\n",
      " 3   E.C               1900 non-null   float64\n",
      " 4   TDS               1900 non-null   float64\n",
      " 5   CO3               1900 non-null   float64\n",
      " 6   HCO3              1900 non-null   float64\n",
      " 7   Cl                1900 non-null   float64\n",
      " 8   F                 1900 non-null   float64\n",
      " 9   NO3               1900 non-null   float64\n",
      " 10  SO4               1900 non-null   float64\n",
      " 11  Na                1900 non-null   float64\n",
      " 12  K                 1900 non-null   float64\n",
      " 13  Ca                1900 non-null   float64\n",
      " 14  Mg                1900 non-null   float64\n",
      " 15  T.H               1900 non-null   float64\n",
      " 16  SAR               1900 non-null   float64\n",
      " 17  Classification    1900 non-null   object \n",
      " 18  RSC  meq  / L     1900 non-null   float64\n",
      " 19  Classification.1  1900 non-null   object \n",
      "dtypes: float64(18), object(2)\n",
      "memory usage: 297.0+ KB\n"
     ]
    }
   ],
   "source": [
    "dataset_df.info()"
   ]
  },
  {
   "cell_type": "code",
   "execution_count": 11,
   "id": "d7c79e5e",
   "metadata": {},
   "outputs": [
    {
     "name": "stdout",
     "output_type": "stream",
     "text": [
      "C2S1\n",
      "C3S1\n",
      "C4S2\n",
      "C4S1\n",
      "C3S2\n",
      "C4S4\n",
      "C4S3\n",
      "C1S1\n",
      "C3S4\n",
      "C3S3\n",
      "C2S2\n"
     ]
    }
   ],
   "source": [
    "all_labels=dataset_df['Classification'].unique()\n",
    "for label in all_labels:\n",
    "    print(label)"
   ]
  },
  {
   "cell_type": "code",
   "execution_count": 12,
   "id": "e4fef37a",
   "metadata": {},
   "outputs": [
    {
     "name": "stdout",
     "output_type": "stream",
     "text": [
      "0 0 0 0 0\n"
     ]
    }
   ],
   "source": [
    "print(len(dataset_df[dataset_df['Classification']=='OG']),len(dataset_df[dataset_df['Classification']=='O.G']),len(dataset_df[dataset_df['Classification']=='BELOW THE GRAPH']),len(dataset_df[dataset_df['Classification']=='OUT OF SAR GRAPH']),len(dataset_df[dataset_df['Classification']=='BG']))"
   ]
  },
  {
   "cell_type": "code",
   "execution_count": 13,
   "id": "a5ed7deb",
   "metadata": {},
   "outputs": [
    {
     "data": {
      "text/plain": [
       "array([ 0,  1,  2,  3,  4,  5,  6,  7,  8,  9, 10], dtype=int64)"
      ]
     },
     "execution_count": 13,
     "metadata": {},
     "output_type": "execute_result"
    }
   ],
   "source": [
    "#encoding/labelling the target column\n",
    "label_mapping = {\n",
    "    label: index for index, label in enumerate(dataset_df['Classification'].unique())\n",
    "}\n",
    "# Map labels to numerical values\n",
    "dataset_df['Classification'] = dataset_df['Classification'].map(label_mapping)\n",
    "dataset_df['Classification'].unique()"
   ]
  },
  {
   "cell_type": "code",
   "execution_count": 14,
   "id": "038b9ee8",
   "metadata": {},
   "outputs": [
    {
     "data": {
      "text/plain": [
       "{'C2S1': 0,\n",
       " 'C3S1': 1,\n",
       " 'C4S2': 2,\n",
       " 'C4S1': 3,\n",
       " 'C3S2': 4,\n",
       " 'C4S4': 5,\n",
       " 'C4S3': 6,\n",
       " 'C1S1': 7,\n",
       " 'C3S4': 8,\n",
       " 'C3S3': 9,\n",
       " 'C2S2': 10}"
      ]
     },
     "execution_count": 14,
     "metadata": {},
     "output_type": "execute_result"
    }
   ],
   "source": [
    "label_mapping"
   ]
  },
  {
   "cell_type": "code",
   "execution_count": 15,
   "id": "e3c9d0eb",
   "metadata": {},
   "outputs": [],
   "source": [
    "#standardisation of the data\n",
    "means = dataset_df.drop(columns=['Classification','Classification.1']).mean()\n",
    "stds = dataset_df.drop(columns=['Classification','Classification.1']).std()\n",
    "for col in dataset_df.columns:\n",
    "    if col != 'Classification' and col != 'Classification.1':  # Exclude target column from standardization\n",
    "        dataset_df[col] = (dataset_df[col] - means[col]) / stds[col]"
   ]
  },
  {
   "cell_type": "code",
   "execution_count": 16,
   "id": "042431bd",
   "metadata": {},
   "outputs": [],
   "source": [
    "# randomising the dataframe and splitting to get train and test dataframes\n",
    "dataset_df = dataset_df.sample(frac=1, random_state=42)\n",
    "num_rows = len(dataset_df)\n",
    "train_size = int(0.8 * num_rows)\n",
    "test_size = num_rows - train_size\n",
    "# Split the DataFrame into training and testing sets\n",
    "train_dataset_df = dataset_df.head(train_size)\n",
    "test_dataset_df = dataset_df.tail(test_size)"
   ]
  },
  {
   "cell_type": "markdown",
   "id": "0f3ae0f5",
   "metadata": {},
   "source": [
    "## Implementation of softmax regression"
   ]
  },
  {
   "cell_type": "markdown",
   "id": "46cc0057",
   "metadata": {},
   "source": [
    "![image.png](softmaxExplanation.png)"
   ]
  },
  {
   "cell_type": "markdown",
   "id": "c350e5d1",
   "metadata": {},
   "source": [
    "The softmax regression predicts probability of any instance to belong to one of the class using softmax function. Here z1,z2,..,zc denote linear combination of input features. (c is number of classes here). Here gradient descent would be used to find the weights( which are used to calculate zi's and ultimately the probabilities)."
   ]
  },
  {
   "cell_type": "code",
   "execution_count": 17,
   "id": "ebb84e49",
   "metadata": {},
   "outputs": [
    {
     "name": "stdout",
     "output_type": "stream",
     "text": [
      "The shape of training data is (it is a dataframe): (1520, 18)\n"
     ]
    }
   ],
   "source": [
    "X_train = train_dataset_df.drop(columns=['Classification','Classification.1'], axis=1).values\n",
    "y_train = train_dataset_df['Classification'].values\n",
    "X_test = test_dataset_df.drop(columns=['Classification','Classification.1'], axis=1).values\n",
    "y_test = test_dataset_df['Classification'].values\n",
    "print(\"The shape of training data is (it is a dataframe):\",X_train.shape)\n",
    "num_of_features=X_train.shape[1]\n",
    "num_of_classes=len(label_mapping)"
   ]
  },
  {
   "cell_type": "code",
   "execution_count": 18,
   "id": "054552ff",
   "metadata": {},
   "outputs": [],
   "source": [
    "class SoftmaxRegression:\n",
    "    #Learning rate is preset to 0.01 and number of epochs is set to 1000\n",
    "    def __init__(self, num_of_features, num_of_classes, learning_rate=0.01, num_epochs=1000):\n",
    "        self.num_of_features = num_of_features\n",
    "        self.num_of_classes = num_of_classes\n",
    "        self.learning_rate = learning_rate\n",
    "        self.num_epochs = num_epochs\n",
    "        self.W = np.zeros((num_of_features, num_of_classes))#initially all weights and biases are set to 0\n",
    "        self.b = np.zeros(num_of_classes)\n",
    "        self.loss_history = []\n",
    "\n",
    "    def softmax(self, z):#softmax function, z is matrix, where each row corresponds to a sample and each column is a class\n",
    "        exp_z = np.exp(z - np.max(z, axis=1, keepdims=True))#subtracted the maximum value in each row to help prevent overflow and maintain numerical stability in exponentiation\n",
    "        return exp_z / np.sum(exp_z, axis=1, keepdims=True)\n",
    "\n",
    "    def one_hot_encode(self, y):#y is labels of input ,vector\n",
    "        one_hot_y = np.zeros((len(y), self.num_of_classes))\n",
    "        for i in range(len(y)):\n",
    "            one_hot_y[i, y[i]] = 1#for each row, column corresponding to that sample is set to one and others to 0\n",
    "        return one_hot_y\n",
    "\n",
    "    #forward and backward propogation\n",
    "    def fit(self, X, y):\n",
    "        y_one_hot = self.one_hot_encode(y)\n",
    "        #training loop\n",
    "        for epoch in range(self.num_epochs):\n",
    "            #forward propogation, \n",
    "            z = np.dot(X, self.W) + self.b#result z is also a matrix\n",
    "            y_pred = self.softmax(z)#result is a matrix\n",
    "            loss = self.cross_entropy_loss(y_one_hot, y_pred)#loss function used is cross entropy loss\n",
    "            self.loss_history.append(loss)\n",
    "            dz = y_pred - y_one_hot#update\n",
    "            dW = np.dot(X.T, dz)\n",
    "            db = np.sum(dz, axis=0)\n",
    "            #backward propogation\n",
    "            self.W -= self.learning_rate * dW\n",
    "            self.b -= self.learning_rate * db\n",
    "            if (epoch+1) % 100 == 0:\n",
    "                print(f\"Epoch {epoch+1}/{self.num_epochs}, Loss: {loss:.4f}\")\n",
    "        self.plot_loss()\n",
    "        \n",
    "    #loss over epochs\n",
    "    def plot_loss(self):\n",
    "        plt.plot(range(1, self.num_epochs + 1), self.loss_history, label='Training Loss')\n",
    "        plt.title('Training Loss over Epochs')\n",
    "        plt.xlabel('Epoch')\n",
    "        plt.ylabel('Loss')\n",
    "        plt.legend()\n",
    "        plt.show()\n",
    "    def cross_entropy_loss(self, y_true, y_pred):\n",
    "        epsilon = 1e-10\n",
    "        y_pred = np.clip(y_pred, epsilon, 1 - epsilon)  # Clip predicted probabilities to avoid zeros\n",
    "        return -np.mean(np.sum(y_true * np.log(y_pred), axis=1))#cross entropy function is used here\n",
    "\n",
    "\n",
    "    def predict(self, X):\n",
    "        z = np.dot(X, self.W) + self.b\n",
    "        y_pred = self.softmax(z)#softmax function gives predictions in each class for each sample\n",
    "        return np.argmax(y_pred, axis=1)#choose that class with largest probability for each class\n",
    "    \n",
    "    def evaluate(self, X, y,print_confusion_matrix=False):\n",
    "        y_pred = self.predict(X)\n",
    "        accuracy = np.mean(y_pred == y)\n",
    "        \n",
    "        # Calculate precision, recall, and F1-score\n",
    "        tp = np.sum((y_pred == y) & (y_pred == 1))#true positives\n",
    "        fp = np.sum((y_pred != y) & (y_pred == 1))#false positives\n",
    "        fn = np.sum((y_pred != y) & (y_pred == 0))#false negatives\n",
    "        if (tp + fp != 0):\n",
    "            precision = tp / (tp + fp)  \n",
    "        else:\n",
    "            precision = 0\n",
    "        if (tp + fn != 0):\n",
    "            recall = tp / (tp + fn) \n",
    "        else :\n",
    "            recall=0\n",
    "        if (precision+recall !=0):\n",
    "            f1_score = 2 * precision * recall / (precision + recall)\n",
    "        else :\n",
    "            f1_score=0\n",
    "        print(f\"Precision:{precision:.4f}\")\n",
    "        print(f\"Recall:{precision:.4f}\")\n",
    "        print(f\"Accuracy:{precision:.4f}\")\n",
    "        print(f\"F1_Score:{f1_score:.4f}\")\n",
    "        if print_confusion_matrix:\n",
    "            confusion = confusion_matrix(y, y_pred)\n",
    "            self.plot_confusion_matrix(confusion)\n",
    "    def plot_confusion_matrix(self, confusion_matrix):\n",
    "        plt.figure(figsize=(8, 6))\n",
    "        sns.heatmap(confusion_matrix, annot=True, fmt='d', cmap='Blues', cbar=False)\n",
    "        plt.xticks(ticks=range(len(label_mapping)), labels=label_mapping.keys())\n",
    "        plt.yticks(ticks=range(len(label_mapping)), labels=label_mapping.keys())\n",
    "        plt.title(\"Confusion Matrix\")\n",
    "        plt.xlabel('Predicted Label')\n",
    "        plt.ylabel('True Label')\n",
    "        plt.show()"
   ]
  },
  {
   "cell_type": "markdown",
   "id": "79d93827",
   "metadata": {},
   "source": [
    "## Fitting the model/training"
   ]
  },
  {
   "cell_type": "code",
   "execution_count": 19,
   "id": "55c7c05a",
   "metadata": {},
   "outputs": [
    {
     "name": "stdout",
     "output_type": "stream",
     "text": [
      "Epoch 100/1000, Loss: 0.7227\n",
      "Epoch 200/1000, Loss: 0.2083\n",
      "Epoch 300/1000, Loss: 0.8085\n",
      "Epoch 400/1000, Loss: 0.6744\n",
      "Epoch 500/1000, Loss: 0.6902\n",
      "Epoch 600/1000, Loss: 0.3711\n",
      "Epoch 700/1000, Loss: 0.3390\n",
      "Epoch 800/1000, Loss: 0.7396\n",
      "Epoch 900/1000, Loss: 0.3567\n",
      "Epoch 1000/1000, Loss: 0.7436\n"
     ]
    },
    {
     "data": {
      "image/png": "[encoded data removed]",
      "text/plain": [
       "<Figure size 640x480 with 1 Axes>"
      ]
     },
     "metadata": {},
     "output_type": "display_data"
    }
   ],
   "source": [
    "softmax_model = SoftmaxRegression(num_of_features, num_of_classes)\n",
    "softmax_model.fit(X_train, y_train)"
   ]
  },
  {
   "cell_type": "markdown",
   "id": "9329bca1",
   "metadata": {},
   "source": [
    "## Evaluating the model"
   ]
  },
  {
   "cell_type": "code",
   "execution_count": 20,
   "id": "29c46801",
   "metadata": {},
   "outputs": [
    {
     "name": "stdout",
     "output_type": "stream",
     "text": [
      "Precision:0.9414\n",
      "Recall:0.9414\n",
      "Accuracy:0.9414\n",
      "F1_Score:0.9494\n"
     ]
    },
    {
     "data": {
      "image/png": "[encoded data removed]",
      "text/plain": [
       "<Figure size 800x600 with 1 Axes>"
      ]
     },
     "metadata": {},
     "output_type": "display_data"
    }
   ],
   "source": [
    "softmax_model.evaluate(X_test,y_test,True)"
   ]
  },
  {
   "cell_type": "code",
   "execution_count": 21,
   "id": "2e736f96",
   "metadata": {},
   "outputs": [
    {
     "name": "stdout",
     "output_type": "stream",
     "text": [
      "Precision:0.9588\n",
      "Recall:0.9588\n",
      "Accuracy:0.9588\n",
      "F1_Score:0.9668\n"
     ]
    },
    {
     "data": {
      "image/png": "[encoded data removed]",
      "text/plain": [
       "<Figure size 800x600 with 1 Axes>"
      ]
     },
     "metadata": {},
     "output_type": "display_data"
    }
   ],
   "source": [
    "# with using scikit learns function\n",
    "from sklearn.linear_model import LogisticRegression\n",
    "from sklearn.metrics import precision_score, recall_score, f1_score, accuracy_score\n",
    "# Train softmax regression model\n",
    "softmax_reg = LogisticRegression(multi_class='multinomial', solver='lbfgs', max_iter=1000)\n",
    "softmax_reg.fit(X_train, y_train)\n",
    "# Predict on the test set\n",
    "y_pred = softmax_reg.predict(X_test)\n",
    "# Calculate accuracy,precision, recall,f1score\n",
    "accuracy = np.mean(y_pred == y_test)\n",
    "# Calculate precision, recall, and F1-score\n",
    "tp = np.sum((y_pred == y_test) & (y_pred == 1))#true positives\n",
    "fp = np.sum((y_pred != y_test) & (y_pred == 1))#false positives\n",
    "fn = np.sum((y_pred != y_test) & (y_pred == 0))#false negatives\n",
    "if (tp + fp != 0):\n",
    "    precision = tp / (tp + fp)  \n",
    "else:\n",
    "    precision = 0\n",
    "if (tp + fn != 0):\n",
    "    recall = tp / (tp + fn) \n",
    "else :\n",
    "    recall=0\n",
    "if (precision+recall !=0):\n",
    "    f1_score = 2 * precision * recall / (precision + recall)\n",
    "else :\n",
    "    f1_score=0\n",
    "print(f\"Precision:{precision:.4f}\")\n",
    "print(f\"Recall:{precision:.4f}\")\n",
    "print(f\"Accuracy:{precision:.4f}\")\n",
    "print(f\"F1_Score:{f1_score:.4f}\")\n",
    "\n",
    "conf_matrix = confusion_matrix(y_test, y_pred)\n",
    "plt.figure(figsize=(8, 6))\n",
    "sns.heatmap(conf_matrix, annot=True, fmt='d', cmap='Blues', cbar=False)\n",
    "plt.xticks(ticks=range(len(label_mapping)), labels=label_mapping.keys())\n",
    "plt.yticks(ticks=range(len(label_mapping)), labels=label_mapping.keys())\n",
    "plt.xlabel('Predicted Lables')\n",
    "plt.ylabel('True Labels')\n",
    "plt.title('Confusion Matrix')\n",
    "plt.show()"
   ]
  },
  {
   "cell_type": "code",
   "execution_count": null,
   "id": "abfaf935",
   "metadata": {},
   "outputs": [],
   "source": []
  }
 ],
 "metadata": {
  "kernelspec": {
   "display_name": "Python 3",
   "language": "python",
   "name": "python3"
  },
  "language_info": {
   "codemirror_mode": {
    "name": "ipython",
    "version": 3
   },
   "file_extension": ".py",
   "mimetype": "text/x-python",
   "name": "python",
   "nbconvert_exporter": "python",
   "pygments_lexer": "ipython3",
   "version": "3.11.8"
  }
 },
 "nbformat": 4,
 "nbformat_minor": 5
}
